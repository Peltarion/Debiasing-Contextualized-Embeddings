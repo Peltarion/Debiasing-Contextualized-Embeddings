{
  "nbformat": 4,
  "nbformat_minor": 0,
  "metadata": {
    "colab": {
      "name": "EEC",
      "provenance": []
    },
    "kernelspec": {
      "name": "python3",
      "display_name": "Python 3"
    },
    "language_info": {
      "name": "python"
    },
    "accelerator": "GPU",
    "widgets": {
      "application/vnd.jupyter.widget-state+json": {
        "5bb5b224e21b4ff8bd0b71286aefedd1": {
          "model_module": "@jupyter-widgets/controls",
          "model_name": "HBoxModel",
          "model_module_version": "1.5.0",
          "state": {
            "_dom_classes": [],
            "_model_module": "@jupyter-widgets/controls",
            "_model_module_version": "1.5.0",
            "_model_name": "HBoxModel",
            "_view_count": null,
            "_view_module": "@jupyter-widgets/controls",
            "_view_module_version": "1.5.0",
            "_view_name": "HBoxView",
            "box_style": "",
            "children": [
              "IPY_MODEL_5ce97a031b324c598d19675b0bde6ccf",
              "IPY_MODEL_e74422e325f64d1ca60fa032f091e1da",
              "IPY_MODEL_b899625945af44a586890b1017705559"
            ],
            "layout": "IPY_MODEL_dd323f37dc8c4a6d97fb1b4397005baa"
          }
        },
        "5ce97a031b324c598d19675b0bde6ccf": {
          "model_module": "@jupyter-widgets/controls",
          "model_name": "HTMLModel",
          "model_module_version": "1.5.0",
          "state": {
            "_dom_classes": [],
            "_model_module": "@jupyter-widgets/controls",
            "_model_module_version": "1.5.0",
            "_model_name": "HTMLModel",
            "_view_count": null,
            "_view_module": "@jupyter-widgets/controls",
            "_view_module_version": "1.5.0",
            "_view_name": "HTMLView",
            "description": "",
            "description_tooltip": null,
            "layout": "IPY_MODEL_f1192b291fff43919f9388ca5f31682c",
            "placeholder": "​",
            "style": "IPY_MODEL_4ee1ea808d3e40d8a292be626e1703e4",
            "value": "Downloading data files: 100%"
          }
        },
        "e74422e325f64d1ca60fa032f091e1da": {
          "model_module": "@jupyter-widgets/controls",
          "model_name": "FloatProgressModel",
          "model_module_version": "1.5.0",
          "state": {
            "_dom_classes": [],
            "_model_module": "@jupyter-widgets/controls",
            "_model_module_version": "1.5.0",
            "_model_name": "FloatProgressModel",
            "_view_count": null,
            "_view_module": "@jupyter-widgets/controls",
            "_view_module_version": "1.5.0",
            "_view_name": "ProgressView",
            "bar_style": "success",
            "description": "",
            "description_tooltip": null,
            "layout": "IPY_MODEL_3a833acc56bc444981895630344c5d07",
            "max": 3,
            "min": 0,
            "orientation": "horizontal",
            "style": "IPY_MODEL_67c368e12b304d5eb82dd97343e21aa4",
            "value": 3
          }
        },
        "b899625945af44a586890b1017705559": {
          "model_module": "@jupyter-widgets/controls",
          "model_name": "HTMLModel",
          "model_module_version": "1.5.0",
          "state": {
            "_dom_classes": [],
            "_model_module": "@jupyter-widgets/controls",
            "_model_module_version": "1.5.0",
            "_model_name": "HTMLModel",
            "_view_count": null,
            "_view_module": "@jupyter-widgets/controls",
            "_view_module_version": "1.5.0",
            "_view_name": "HTMLView",
            "description": "",
            "description_tooltip": null,
            "layout": "IPY_MODEL_53447518013d4c93ac813c11964bc5f8",
            "placeholder": "​",
            "style": "IPY_MODEL_0ed418e4f4fb428491c8e0c69a7f1023",
            "value": " 3/3 [00:00&lt;00:00, 85.02it/s]"
          }
        },
        "dd323f37dc8c4a6d97fb1b4397005baa": {
          "model_module": "@jupyter-widgets/base",
          "model_name": "LayoutModel",
          "model_module_version": "1.2.0",
          "state": {
            "_model_module": "@jupyter-widgets/base",
            "_model_module_version": "1.2.0",
            "_model_name": "LayoutModel",
            "_view_count": null,
            "_view_module": "@jupyter-widgets/base",
            "_view_module_version": "1.2.0",
            "_view_name": "LayoutView",
            "align_content": null,
            "align_items": null,
            "align_self": null,
            "border": null,
            "bottom": null,
            "display": null,
            "flex": null,
            "flex_flow": null,
            "grid_area": null,
            "grid_auto_columns": null,
            "grid_auto_flow": null,
            "grid_auto_rows": null,
            "grid_column": null,
            "grid_gap": null,
            "grid_row": null,
            "grid_template_areas": null,
            "grid_template_columns": null,
            "grid_template_rows": null,
            "height": null,
            "justify_content": null,
            "justify_items": null,
            "left": null,
            "margin": null,
            "max_height": null,
            "max_width": null,
            "min_height": null,
            "min_width": null,
            "object_fit": null,
            "object_position": null,
            "order": null,
            "overflow": null,
            "overflow_x": null,
            "overflow_y": null,
            "padding": null,
            "right": null,
            "top": null,
            "visibility": null,
            "width": null
          }
        },
        "f1192b291fff43919f9388ca5f31682c": {
          "model_module": "@jupyter-widgets/base",
          "model_name": "LayoutModel",
          "model_module_version": "1.2.0",
          "state": {
            "_model_module": "@jupyter-widgets/base",
            "_model_module_version": "1.2.0",
            "_model_name": "LayoutModel",
            "_view_count": null,
            "_view_module": "@jupyter-widgets/base",
            "_view_module_version": "1.2.0",
            "_view_name": "LayoutView",
            "align_content": null,
            "align_items": null,
            "align_self": null,
            "border": null,
            "bottom": null,
            "display": null,
            "flex": null,
            "flex_flow": null,
            "grid_area": null,
            "grid_auto_columns": null,
            "grid_auto_flow": null,
            "grid_auto_rows": null,
            "grid_column": null,
            "grid_gap": null,
            "grid_row": null,
            "grid_template_areas": null,
            "grid_template_columns": null,
            "grid_template_rows": null,
            "height": null,
            "justify_content": null,
            "justify_items": null,
            "left": null,
            "margin": null,
            "max_height": null,
            "max_width": null,
            "min_height": null,
            "min_width": null,
            "object_fit": null,
            "object_position": null,
            "order": null,
            "overflow": null,
            "overflow_x": null,
            "overflow_y": null,
            "padding": null,
            "right": null,
            "top": null,
            "visibility": null,
            "width": null
          }
        },
        "4ee1ea808d3e40d8a292be626e1703e4": {
          "model_module": "@jupyter-widgets/controls",
          "model_name": "DescriptionStyleModel",
          "model_module_version": "1.5.0",
          "state": {
            "_model_module": "@jupyter-widgets/controls",
            "_model_module_version": "1.5.0",
            "_model_name": "DescriptionStyleModel",
            "_view_count": null,
            "_view_module": "@jupyter-widgets/base",
            "_view_module_version": "1.2.0",
            "_view_name": "StyleView",
            "description_width": ""
          }
        },
        "3a833acc56bc444981895630344c5d07": {
          "model_module": "@jupyter-widgets/base",
          "model_name": "LayoutModel",
          "model_module_version": "1.2.0",
          "state": {
            "_model_module": "@jupyter-widgets/base",
            "_model_module_version": "1.2.0",
            "_model_name": "LayoutModel",
            "_view_count": null,
            "_view_module": "@jupyter-widgets/base",
            "_view_module_version": "1.2.0",
            "_view_name": "LayoutView",
            "align_content": null,
            "align_items": null,
            "align_self": null,
            "border": null,
            "bottom": null,
            "display": null,
            "flex": null,
            "flex_flow": null,
            "grid_area": null,
            "grid_auto_columns": null,
            "grid_auto_flow": null,
            "grid_auto_rows": null,
            "grid_column": null,
            "grid_gap": null,
            "grid_row": null,
            "grid_template_areas": null,
            "grid_template_columns": null,
            "grid_template_rows": null,
            "height": null,
            "justify_content": null,
            "justify_items": null,
            "left": null,
            "margin": null,
            "max_height": null,
            "max_width": null,
            "min_height": null,
            "min_width": null,
            "object_fit": null,
            "object_position": null,
            "order": null,
            "overflow": null,
            "overflow_x": null,
            "overflow_y": null,
            "padding": null,
            "right": null,
            "top": null,
            "visibility": null,
            "width": null
          }
        },
        "67c368e12b304d5eb82dd97343e21aa4": {
          "model_module": "@jupyter-widgets/controls",
          "model_name": "ProgressStyleModel",
          "model_module_version": "1.5.0",
          "state": {
            "_model_module": "@jupyter-widgets/controls",
            "_model_module_version": "1.5.0",
            "_model_name": "ProgressStyleModel",
            "_view_count": null,
            "_view_module": "@jupyter-widgets/base",
            "_view_module_version": "1.2.0",
            "_view_name": "StyleView",
            "bar_color": null,
            "description_width": ""
          }
        },
        "53447518013d4c93ac813c11964bc5f8": {
          "model_module": "@jupyter-widgets/base",
          "model_name": "LayoutModel",
          "model_module_version": "1.2.0",
          "state": {
            "_model_module": "@jupyter-widgets/base",
            "_model_module_version": "1.2.0",
            "_model_name": "LayoutModel",
            "_view_count": null,
            "_view_module": "@jupyter-widgets/base",
            "_view_module_version": "1.2.0",
            "_view_name": "LayoutView",
            "align_content": null,
            "align_items": null,
            "align_self": null,
            "border": null,
            "bottom": null,
            "display": null,
            "flex": null,
            "flex_flow": null,
            "grid_area": null,
            "grid_auto_columns": null,
            "grid_auto_flow": null,
            "grid_auto_rows": null,
            "grid_column": null,
            "grid_gap": null,
            "grid_row": null,
            "grid_template_areas": null,
            "grid_template_columns": null,
            "grid_template_rows": null,
            "height": null,
            "justify_content": null,
            "justify_items": null,
            "left": null,
            "margin": null,
            "max_height": null,
            "max_width": null,
            "min_height": null,
            "min_width": null,
            "object_fit": null,
            "object_position": null,
            "order": null,
            "overflow": null,
            "overflow_x": null,
            "overflow_y": null,
            "padding": null,
            "right": null,
            "top": null,
            "visibility": null,
            "width": null
          }
        },
        "0ed418e4f4fb428491c8e0c69a7f1023": {
          "model_module": "@jupyter-widgets/controls",
          "model_name": "DescriptionStyleModel",
          "model_module_version": "1.5.0",
          "state": {
            "_model_module": "@jupyter-widgets/controls",
            "_model_module_version": "1.5.0",
            "_model_name": "DescriptionStyleModel",
            "_view_count": null,
            "_view_module": "@jupyter-widgets/base",
            "_view_module_version": "1.2.0",
            "_view_name": "StyleView",
            "description_width": ""
          }
        },
        "d14919a1f7094d8a8e54387b472637c1": {
          "model_module": "@jupyter-widgets/controls",
          "model_name": "HBoxModel",
          "model_module_version": "1.5.0",
          "state": {
            "_dom_classes": [],
            "_model_module": "@jupyter-widgets/controls",
            "_model_module_version": "1.5.0",
            "_model_name": "HBoxModel",
            "_view_count": null,
            "_view_module": "@jupyter-widgets/controls",
            "_view_module_version": "1.5.0",
            "_view_name": "HBoxView",
            "box_style": "",
            "children": [
              "IPY_MODEL_7479be768c0b45abafd7d174663f4375",
              "IPY_MODEL_eba378cc4c5f4bf599c9c46021d6c548",
              "IPY_MODEL_01fac590be4044d79e1d2424019c7f52"
            ],
            "layout": "IPY_MODEL_5c2654069870400daf8e8f3b3b447a2f"
          }
        },
        "7479be768c0b45abafd7d174663f4375": {
          "model_module": "@jupyter-widgets/controls",
          "model_name": "HTMLModel",
          "model_module_version": "1.5.0",
          "state": {
            "_dom_classes": [],
            "_model_module": "@jupyter-widgets/controls",
            "_model_module_version": "1.5.0",
            "_model_name": "HTMLModel",
            "_view_count": null,
            "_view_module": "@jupyter-widgets/controls",
            "_view_module_version": "1.5.0",
            "_view_name": "HTMLView",
            "description": "",
            "description_tooltip": null,
            "layout": "IPY_MODEL_2ba20e95f9c64c658f96bf575819960d",
            "placeholder": "​",
            "style": "IPY_MODEL_465b0308ff854142a6876b986f879930",
            "value": "Extracting data files: 100%"
          }
        },
        "eba378cc4c5f4bf599c9c46021d6c548": {
          "model_module": "@jupyter-widgets/controls",
          "model_name": "FloatProgressModel",
          "model_module_version": "1.5.0",
          "state": {
            "_dom_classes": [],
            "_model_module": "@jupyter-widgets/controls",
            "_model_module_version": "1.5.0",
            "_model_name": "FloatProgressModel",
            "_view_count": null,
            "_view_module": "@jupyter-widgets/controls",
            "_view_module_version": "1.5.0",
            "_view_name": "ProgressView",
            "bar_style": "success",
            "description": "",
            "description_tooltip": null,
            "layout": "IPY_MODEL_9462f2cd10954c0a8249b189ed81438c",
            "max": 3,
            "min": 0,
            "orientation": "horizontal",
            "style": "IPY_MODEL_64935c5df6e84b3fb7fd09f5fd45e34d",
            "value": 3
          }
        },
        "01fac590be4044d79e1d2424019c7f52": {
          "model_module": "@jupyter-widgets/controls",
          "model_name": "HTMLModel",
          "model_module_version": "1.5.0",
          "state": {
            "_dom_classes": [],
            "_model_module": "@jupyter-widgets/controls",
            "_model_module_version": "1.5.0",
            "_model_name": "HTMLModel",
            "_view_count": null,
            "_view_module": "@jupyter-widgets/controls",
            "_view_module_version": "1.5.0",
            "_view_name": "HTMLView",
            "description": "",
            "description_tooltip": null,
            "layout": "IPY_MODEL_0d54bd251e6f447ea923800c11fefa6a",
            "placeholder": "​",
            "style": "IPY_MODEL_43c82b51b5dd437e877dccaa8448232a",
            "value": " 3/3 [00:00&lt;00:00, 55.49it/s]"
          }
        },
        "5c2654069870400daf8e8f3b3b447a2f": {
          "model_module": "@jupyter-widgets/base",
          "model_name": "LayoutModel",
          "model_module_version": "1.2.0",
          "state": {
            "_model_module": "@jupyter-widgets/base",
            "_model_module_version": "1.2.0",
            "_model_name": "LayoutModel",
            "_view_count": null,
            "_view_module": "@jupyter-widgets/base",
            "_view_module_version": "1.2.0",
            "_view_name": "LayoutView",
            "align_content": null,
            "align_items": null,
            "align_self": null,
            "border": null,
            "bottom": null,
            "display": null,
            "flex": null,
            "flex_flow": null,
            "grid_area": null,
            "grid_auto_columns": null,
            "grid_auto_flow": null,
            "grid_auto_rows": null,
            "grid_column": null,
            "grid_gap": null,
            "grid_row": null,
            "grid_template_areas": null,
            "grid_template_columns": null,
            "grid_template_rows": null,
            "height": null,
            "justify_content": null,
            "justify_items": null,
            "left": null,
            "margin": null,
            "max_height": null,
            "max_width": null,
            "min_height": null,
            "min_width": null,
            "object_fit": null,
            "object_position": null,
            "order": null,
            "overflow": null,
            "overflow_x": null,
            "overflow_y": null,
            "padding": null,
            "right": null,
            "top": null,
            "visibility": null,
            "width": null
          }
        },
        "2ba20e95f9c64c658f96bf575819960d": {
          "model_module": "@jupyter-widgets/base",
          "model_name": "LayoutModel",
          "model_module_version": "1.2.0",
          "state": {
            "_model_module": "@jupyter-widgets/base",
            "_model_module_version": "1.2.0",
            "_model_name": "LayoutModel",
            "_view_count": null,
            "_view_module": "@jupyter-widgets/base",
            "_view_module_version": "1.2.0",
            "_view_name": "LayoutView",
            "align_content": null,
            "align_items": null,
            "align_self": null,
            "border": null,
            "bottom": null,
            "display": null,
            "flex": null,
            "flex_flow": null,
            "grid_area": null,
            "grid_auto_columns": null,
            "grid_auto_flow": null,
            "grid_auto_rows": null,
            "grid_column": null,
            "grid_gap": null,
            "grid_row": null,
            "grid_template_areas": null,
            "grid_template_columns": null,
            "grid_template_rows": null,
            "height": null,
            "justify_content": null,
            "justify_items": null,
            "left": null,
            "margin": null,
            "max_height": null,
            "max_width": null,
            "min_height": null,
            "min_width": null,
            "object_fit": null,
            "object_position": null,
            "order": null,
            "overflow": null,
            "overflow_x": null,
            "overflow_y": null,
            "padding": null,
            "right": null,
            "top": null,
            "visibility": null,
            "width": null
          }
        },
        "465b0308ff854142a6876b986f879930": {
          "model_module": "@jupyter-widgets/controls",
          "model_name": "DescriptionStyleModel",
          "model_module_version": "1.5.0",
          "state": {
            "_model_module": "@jupyter-widgets/controls",
            "_model_module_version": "1.5.0",
            "_model_name": "DescriptionStyleModel",
            "_view_count": null,
            "_view_module": "@jupyter-widgets/base",
            "_view_module_version": "1.2.0",
            "_view_name": "StyleView",
            "description_width": ""
          }
        },
        "9462f2cd10954c0a8249b189ed81438c": {
          "model_module": "@jupyter-widgets/base",
          "model_name": "LayoutModel",
          "model_module_version": "1.2.0",
          "state": {
            "_model_module": "@jupyter-widgets/base",
            "_model_module_version": "1.2.0",
            "_model_name": "LayoutModel",
            "_view_count": null,
            "_view_module": "@jupyter-widgets/base",
            "_view_module_version": "1.2.0",
            "_view_name": "LayoutView",
            "align_content": null,
            "align_items": null,
            "align_self": null,
            "border": null,
            "bottom": null,
            "display": null,
            "flex": null,
            "flex_flow": null,
            "grid_area": null,
            "grid_auto_columns": null,
            "grid_auto_flow": null,
            "grid_auto_rows": null,
            "grid_column": null,
            "grid_gap": null,
            "grid_row": null,
            "grid_template_areas": null,
            "grid_template_columns": null,
            "grid_template_rows": null,
            "height": null,
            "justify_content": null,
            "justify_items": null,
            "left": null,
            "margin": null,
            "max_height": null,
            "max_width": null,
            "min_height": null,
            "min_width": null,
            "object_fit": null,
            "object_position": null,
            "order": null,
            "overflow": null,
            "overflow_x": null,
            "overflow_y": null,
            "padding": null,
            "right": null,
            "top": null,
            "visibility": null,
            "width": null
          }
        },
        "64935c5df6e84b3fb7fd09f5fd45e34d": {
          "model_module": "@jupyter-widgets/controls",
          "model_name": "ProgressStyleModel",
          "model_module_version": "1.5.0",
          "state": {
            "_model_module": "@jupyter-widgets/controls",
            "_model_module_version": "1.5.0",
            "_model_name": "ProgressStyleModel",
            "_view_count": null,
            "_view_module": "@jupyter-widgets/base",
            "_view_module_version": "1.2.0",
            "_view_name": "StyleView",
            "bar_color": null,
            "description_width": ""
          }
        },
        "0d54bd251e6f447ea923800c11fefa6a": {
          "model_module": "@jupyter-widgets/base",
          "model_name": "LayoutModel",
          "model_module_version": "1.2.0",
          "state": {
            "_model_module": "@jupyter-widgets/base",
            "_model_module_version": "1.2.0",
            "_model_name": "LayoutModel",
            "_view_count": null,
            "_view_module": "@jupyter-widgets/base",
            "_view_module_version": "1.2.0",
            "_view_name": "LayoutView",
            "align_content": null,
            "align_items": null,
            "align_self": null,
            "border": null,
            "bottom": null,
            "display": null,
            "flex": null,
            "flex_flow": null,
            "grid_area": null,
            "grid_auto_columns": null,
            "grid_auto_flow": null,
            "grid_auto_rows": null,
            "grid_column": null,
            "grid_gap": null,
            "grid_row": null,
            "grid_template_areas": null,
            "grid_template_columns": null,
            "grid_template_rows": null,
            "height": null,
            "justify_content": null,
            "justify_items": null,
            "left": null,
            "margin": null,
            "max_height": null,
            "max_width": null,
            "min_height": null,
            "min_width": null,
            "object_fit": null,
            "object_position": null,
            "order": null,
            "overflow": null,
            "overflow_x": null,
            "overflow_y": null,
            "padding": null,
            "right": null,
            "top": null,
            "visibility": null,
            "width": null
          }
        },
        "43c82b51b5dd437e877dccaa8448232a": {
          "model_module": "@jupyter-widgets/controls",
          "model_name": "DescriptionStyleModel",
          "model_module_version": "1.5.0",
          "state": {
            "_model_module": "@jupyter-widgets/controls",
            "_model_module_version": "1.5.0",
            "_model_name": "DescriptionStyleModel",
            "_view_count": null,
            "_view_module": "@jupyter-widgets/base",
            "_view_module_version": "1.2.0",
            "_view_name": "StyleView",
            "description_width": ""
          }
        },
        "9faf91864440496e82be4f6493438108": {
          "model_module": "@jupyter-widgets/controls",
          "model_name": "HBoxModel",
          "model_module_version": "1.5.0",
          "state": {
            "_dom_classes": [],
            "_model_module": "@jupyter-widgets/controls",
            "_model_module_version": "1.5.0",
            "_model_name": "HBoxModel",
            "_view_count": null,
            "_view_module": "@jupyter-widgets/controls",
            "_view_module_version": "1.5.0",
            "_view_name": "HBoxView",
            "box_style": "",
            "children": [
              "IPY_MODEL_d01ac74e203146a99a057fa5e438abec",
              "IPY_MODEL_cc49db26111e4b7781de62f64bb6789b",
              "IPY_MODEL_de828d220217437bb6b342d97a8fdd2c"
            ],
            "layout": "IPY_MODEL_25b40e95f9c643bba8da260c5d2d08b2"
          }
        },
        "d01ac74e203146a99a057fa5e438abec": {
          "model_module": "@jupyter-widgets/controls",
          "model_name": "HTMLModel",
          "model_module_version": "1.5.0",
          "state": {
            "_dom_classes": [],
            "_model_module": "@jupyter-widgets/controls",
            "_model_module_version": "1.5.0",
            "_model_name": "HTMLModel",
            "_view_count": null,
            "_view_module": "@jupyter-widgets/controls",
            "_view_module_version": "1.5.0",
            "_view_name": "HTMLView",
            "description": "",
            "description_tooltip": null,
            "layout": "IPY_MODEL_eea862dd562641d782e02f90eb8967b7",
            "placeholder": "​",
            "style": "IPY_MODEL_3db89fb90ed543b1b08159a8c86dd1e3",
            "value": "100%"
          }
        },
        "cc49db26111e4b7781de62f64bb6789b": {
          "model_module": "@jupyter-widgets/controls",
          "model_name": "FloatProgressModel",
          "model_module_version": "1.5.0",
          "state": {
            "_dom_classes": [],
            "_model_module": "@jupyter-widgets/controls",
            "_model_module_version": "1.5.0",
            "_model_name": "FloatProgressModel",
            "_view_count": null,
            "_view_module": "@jupyter-widgets/controls",
            "_view_module_version": "1.5.0",
            "_view_name": "ProgressView",
            "bar_style": "success",
            "description": "",
            "description_tooltip": null,
            "layout": "IPY_MODEL_ddce3b953a2149b79972f5a02356d84c",
            "max": 3,
            "min": 0,
            "orientation": "horizontal",
            "style": "IPY_MODEL_0d059279bb484287b254550f717d6d57",
            "value": 3
          }
        },
        "de828d220217437bb6b342d97a8fdd2c": {
          "model_module": "@jupyter-widgets/controls",
          "model_name": "HTMLModel",
          "model_module_version": "1.5.0",
          "state": {
            "_dom_classes": [],
            "_model_module": "@jupyter-widgets/controls",
            "_model_module_version": "1.5.0",
            "_model_name": "HTMLModel",
            "_view_count": null,
            "_view_module": "@jupyter-widgets/controls",
            "_view_module_version": "1.5.0",
            "_view_name": "HTMLView",
            "description": "",
            "description_tooltip": null,
            "layout": "IPY_MODEL_1e4021cf9fd041f09783b58ed32840f2",
            "placeholder": "​",
            "style": "IPY_MODEL_496520094f144e9587975a07f1360b1b",
            "value": " 3/3 [00:00&lt;00:00, 44.15it/s]"
          }
        },
        "25b40e95f9c643bba8da260c5d2d08b2": {
          "model_module": "@jupyter-widgets/base",
          "model_name": "LayoutModel",
          "model_module_version": "1.2.0",
          "state": {
            "_model_module": "@jupyter-widgets/base",
            "_model_module_version": "1.2.0",
            "_model_name": "LayoutModel",
            "_view_count": null,
            "_view_module": "@jupyter-widgets/base",
            "_view_module_version": "1.2.0",
            "_view_name": "LayoutView",
            "align_content": null,
            "align_items": null,
            "align_self": null,
            "border": null,
            "bottom": null,
            "display": null,
            "flex": null,
            "flex_flow": null,
            "grid_area": null,
            "grid_auto_columns": null,
            "grid_auto_flow": null,
            "grid_auto_rows": null,
            "grid_column": null,
            "grid_gap": null,
            "grid_row": null,
            "grid_template_areas": null,
            "grid_template_columns": null,
            "grid_template_rows": null,
            "height": null,
            "justify_content": null,
            "justify_items": null,
            "left": null,
            "margin": null,
            "max_height": null,
            "max_width": null,
            "min_height": null,
            "min_width": null,
            "object_fit": null,
            "object_position": null,
            "order": null,
            "overflow": null,
            "overflow_x": null,
            "overflow_y": null,
            "padding": null,
            "right": null,
            "top": null,
            "visibility": null,
            "width": null
          }
        },
        "eea862dd562641d782e02f90eb8967b7": {
          "model_module": "@jupyter-widgets/base",
          "model_name": "LayoutModel",
          "model_module_version": "1.2.0",
          "state": {
            "_model_module": "@jupyter-widgets/base",
            "_model_module_version": "1.2.0",
            "_model_name": "LayoutModel",
            "_view_count": null,
            "_view_module": "@jupyter-widgets/base",
            "_view_module_version": "1.2.0",
            "_view_name": "LayoutView",
            "align_content": null,
            "align_items": null,
            "align_self": null,
            "border": null,
            "bottom": null,
            "display": null,
            "flex": null,
            "flex_flow": null,
            "grid_area": null,
            "grid_auto_columns": null,
            "grid_auto_flow": null,
            "grid_auto_rows": null,
            "grid_column": null,
            "grid_gap": null,
            "grid_row": null,
            "grid_template_areas": null,
            "grid_template_columns": null,
            "grid_template_rows": null,
            "height": null,
            "justify_content": null,
            "justify_items": null,
            "left": null,
            "margin": null,
            "max_height": null,
            "max_width": null,
            "min_height": null,
            "min_width": null,
            "object_fit": null,
            "object_position": null,
            "order": null,
            "overflow": null,
            "overflow_x": null,
            "overflow_y": null,
            "padding": null,
            "right": null,
            "top": null,
            "visibility": null,
            "width": null
          }
        },
        "3db89fb90ed543b1b08159a8c86dd1e3": {
          "model_module": "@jupyter-widgets/controls",
          "model_name": "DescriptionStyleModel",
          "model_module_version": "1.5.0",
          "state": {
            "_model_module": "@jupyter-widgets/controls",
            "_model_module_version": "1.5.0",
            "_model_name": "DescriptionStyleModel",
            "_view_count": null,
            "_view_module": "@jupyter-widgets/base",
            "_view_module_version": "1.2.0",
            "_view_name": "StyleView",
            "description_width": ""
          }
        },
        "ddce3b953a2149b79972f5a02356d84c": {
          "model_module": "@jupyter-widgets/base",
          "model_name": "LayoutModel",
          "model_module_version": "1.2.0",
          "state": {
            "_model_module": "@jupyter-widgets/base",
            "_model_module_version": "1.2.0",
            "_model_name": "LayoutModel",
            "_view_count": null,
            "_view_module": "@jupyter-widgets/base",
            "_view_module_version": "1.2.0",
            "_view_name": "LayoutView",
            "align_content": null,
            "align_items": null,
            "align_self": null,
            "border": null,
            "bottom": null,
            "display": null,
            "flex": null,
            "flex_flow": null,
            "grid_area": null,
            "grid_auto_columns": null,
            "grid_auto_flow": null,
            "grid_auto_rows": null,
            "grid_column": null,
            "grid_gap": null,
            "grid_row": null,
            "grid_template_areas": null,
            "grid_template_columns": null,
            "grid_template_rows": null,
            "height": null,
            "justify_content": null,
            "justify_items": null,
            "left": null,
            "margin": null,
            "max_height": null,
            "max_width": null,
            "min_height": null,
            "min_width": null,
            "object_fit": null,
            "object_position": null,
            "order": null,
            "overflow": null,
            "overflow_x": null,
            "overflow_y": null,
            "padding": null,
            "right": null,
            "top": null,
            "visibility": null,
            "width": null
          }
        },
        "0d059279bb484287b254550f717d6d57": {
          "model_module": "@jupyter-widgets/controls",
          "model_name": "ProgressStyleModel",
          "model_module_version": "1.5.0",
          "state": {
            "_model_module": "@jupyter-widgets/controls",
            "_model_module_version": "1.5.0",
            "_model_name": "ProgressStyleModel",
            "_view_count": null,
            "_view_module": "@jupyter-widgets/base",
            "_view_module_version": "1.2.0",
            "_view_name": "StyleView",
            "bar_color": null,
            "description_width": ""
          }
        },
        "1e4021cf9fd041f09783b58ed32840f2": {
          "model_module": "@jupyter-widgets/base",
          "model_name": "LayoutModel",
          "model_module_version": "1.2.0",
          "state": {
            "_model_module": "@jupyter-widgets/base",
            "_model_module_version": "1.2.0",
            "_model_name": "LayoutModel",
            "_view_count": null,
            "_view_module": "@jupyter-widgets/base",
            "_view_module_version": "1.2.0",
            "_view_name": "LayoutView",
            "align_content": null,
            "align_items": null,
            "align_self": null,
            "border": null,
            "bottom": null,
            "display": null,
            "flex": null,
            "flex_flow": null,
            "grid_area": null,
            "grid_auto_columns": null,
            "grid_auto_flow": null,
            "grid_auto_rows": null,
            "grid_column": null,
            "grid_gap": null,
            "grid_row": null,
            "grid_template_areas": null,
            "grid_template_columns": null,
            "grid_template_rows": null,
            "height": null,
            "justify_content": null,
            "justify_items": null,
            "left": null,
            "margin": null,
            "max_height": null,
            "max_width": null,
            "min_height": null,
            "min_width": null,
            "object_fit": null,
            "object_position": null,
            "order": null,
            "overflow": null,
            "overflow_x": null,
            "overflow_y": null,
            "padding": null,
            "right": null,
            "top": null,
            "visibility": null,
            "width": null
          }
        },
        "496520094f144e9587975a07f1360b1b": {
          "model_module": "@jupyter-widgets/controls",
          "model_name": "DescriptionStyleModel",
          "model_module_version": "1.5.0",
          "state": {
            "_model_module": "@jupyter-widgets/controls",
            "_model_module_version": "1.5.0",
            "_model_name": "DescriptionStyleModel",
            "_view_count": null,
            "_view_module": "@jupyter-widgets/base",
            "_view_module_version": "1.2.0",
            "_view_name": "StyleView",
            "description_width": ""
          }
        },
        "3ae23114ef2e4ef8b80696c9d847194b": {
          "model_module": "@jupyter-widgets/controls",
          "model_name": "HBoxModel",
          "model_module_version": "1.5.0",
          "state": {
            "_dom_classes": [],
            "_model_module": "@jupyter-widgets/controls",
            "_model_module_version": "1.5.0",
            "_model_name": "HBoxModel",
            "_view_count": null,
            "_view_module": "@jupyter-widgets/controls",
            "_view_module_version": "1.5.0",
            "_view_name": "HBoxView",
            "box_style": "",
            "children": [
              "IPY_MODEL_0214c31e0fb7444b9a33256844dc5f19",
              "IPY_MODEL_e58a418d169c4479a61d8d1a240cf4b6",
              "IPY_MODEL_0d1c36a972214d26af65c52be3b27cc1"
            ],
            "layout": "IPY_MODEL_be6a85984c0544f8968788955ee3cb23"
          }
        },
        "0214c31e0fb7444b9a33256844dc5f19": {
          "model_module": "@jupyter-widgets/controls",
          "model_name": "HTMLModel",
          "model_module_version": "1.5.0",
          "state": {
            "_dom_classes": [],
            "_model_module": "@jupyter-widgets/controls",
            "_model_module_version": "1.5.0",
            "_model_name": "HTMLModel",
            "_view_count": null,
            "_view_module": "@jupyter-widgets/controls",
            "_view_module_version": "1.5.0",
            "_view_name": "HTMLView",
            "description": "",
            "description_tooltip": null,
            "layout": "IPY_MODEL_2e395d47d72a4840b37c7a76be1be8d9",
            "placeholder": "​",
            "style": "IPY_MODEL_3d7e9a480e02447a9a94e68f3541a998",
            "value": "100%"
          }
        },
        "e58a418d169c4479a61d8d1a240cf4b6": {
          "model_module": "@jupyter-widgets/controls",
          "model_name": "FloatProgressModel",
          "model_module_version": "1.5.0",
          "state": {
            "_dom_classes": [],
            "_model_module": "@jupyter-widgets/controls",
            "_model_module_version": "1.5.0",
            "_model_name": "FloatProgressModel",
            "_view_count": null,
            "_view_module": "@jupyter-widgets/controls",
            "_view_module_version": "1.5.0",
            "_view_name": "ProgressView",
            "bar_style": "success",
            "description": "",
            "description_tooltip": null,
            "layout": "IPY_MODEL_648c199f9b3440b8b229a118f761c523",
            "max": 1,
            "min": 0,
            "orientation": "horizontal",
            "style": "IPY_MODEL_64b43cd15444413a8fdd4b4e285971e6",
            "value": 1
          }
        },
        "0d1c36a972214d26af65c52be3b27cc1": {
          "model_module": "@jupyter-widgets/controls",
          "model_name": "HTMLModel",
          "model_module_version": "1.5.0",
          "state": {
            "_dom_classes": [],
            "_model_module": "@jupyter-widgets/controls",
            "_model_module_version": "1.5.0",
            "_model_name": "HTMLModel",
            "_view_count": null,
            "_view_module": "@jupyter-widgets/controls",
            "_view_module_version": "1.5.0",
            "_view_name": "HTMLView",
            "description": "",
            "description_tooltip": null,
            "layout": "IPY_MODEL_73b26fc41d7949d3890e99a7504a449c",
            "placeholder": "​",
            "style": "IPY_MODEL_fc820a3e971445379019f35d513974c9",
            "value": " 1/1 [00:00&lt;00:00,  2.15ba/s]"
          }
        },
        "be6a85984c0544f8968788955ee3cb23": {
          "model_module": "@jupyter-widgets/base",
          "model_name": "LayoutModel",
          "model_module_version": "1.2.0",
          "state": {
            "_model_module": "@jupyter-widgets/base",
            "_model_module_version": "1.2.0",
            "_model_name": "LayoutModel",
            "_view_count": null,
            "_view_module": "@jupyter-widgets/base",
            "_view_module_version": "1.2.0",
            "_view_name": "LayoutView",
            "align_content": null,
            "align_items": null,
            "align_self": null,
            "border": null,
            "bottom": null,
            "display": null,
            "flex": null,
            "flex_flow": null,
            "grid_area": null,
            "grid_auto_columns": null,
            "grid_auto_flow": null,
            "grid_auto_rows": null,
            "grid_column": null,
            "grid_gap": null,
            "grid_row": null,
            "grid_template_areas": null,
            "grid_template_columns": null,
            "grid_template_rows": null,
            "height": null,
            "justify_content": null,
            "justify_items": null,
            "left": null,
            "margin": null,
            "max_height": null,
            "max_width": null,
            "min_height": null,
            "min_width": null,
            "object_fit": null,
            "object_position": null,
            "order": null,
            "overflow": null,
            "overflow_x": null,
            "overflow_y": null,
            "padding": null,
            "right": null,
            "top": null,
            "visibility": null,
            "width": null
          }
        },
        "2e395d47d72a4840b37c7a76be1be8d9": {
          "model_module": "@jupyter-widgets/base",
          "model_name": "LayoutModel",
          "model_module_version": "1.2.0",
          "state": {
            "_model_module": "@jupyter-widgets/base",
            "_model_module_version": "1.2.0",
            "_model_name": "LayoutModel",
            "_view_count": null,
            "_view_module": "@jupyter-widgets/base",
            "_view_module_version": "1.2.0",
            "_view_name": "LayoutView",
            "align_content": null,
            "align_items": null,
            "align_self": null,
            "border": null,
            "bottom": null,
            "display": null,
            "flex": null,
            "flex_flow": null,
            "grid_area": null,
            "grid_auto_columns": null,
            "grid_auto_flow": null,
            "grid_auto_rows": null,
            "grid_column": null,
            "grid_gap": null,
            "grid_row": null,
            "grid_template_areas": null,
            "grid_template_columns": null,
            "grid_template_rows": null,
            "height": null,
            "justify_content": null,
            "justify_items": null,
            "left": null,
            "margin": null,
            "max_height": null,
            "max_width": null,
            "min_height": null,
            "min_width": null,
            "object_fit": null,
            "object_position": null,
            "order": null,
            "overflow": null,
            "overflow_x": null,
            "overflow_y": null,
            "padding": null,
            "right": null,
            "top": null,
            "visibility": null,
            "width": null
          }
        },
        "3d7e9a480e02447a9a94e68f3541a998": {
          "model_module": "@jupyter-widgets/controls",
          "model_name": "DescriptionStyleModel",
          "model_module_version": "1.5.0",
          "state": {
            "_model_module": "@jupyter-widgets/controls",
            "_model_module_version": "1.5.0",
            "_model_name": "DescriptionStyleModel",
            "_view_count": null,
            "_view_module": "@jupyter-widgets/base",
            "_view_module_version": "1.2.0",
            "_view_name": "StyleView",
            "description_width": ""
          }
        },
        "648c199f9b3440b8b229a118f761c523": {
          "model_module": "@jupyter-widgets/base",
          "model_name": "LayoutModel",
          "model_module_version": "1.2.0",
          "state": {
            "_model_module": "@jupyter-widgets/base",
            "_model_module_version": "1.2.0",
            "_model_name": "LayoutModel",
            "_view_count": null,
            "_view_module": "@jupyter-widgets/base",
            "_view_module_version": "1.2.0",
            "_view_name": "LayoutView",
            "align_content": null,
            "align_items": null,
            "align_self": null,
            "border": null,
            "bottom": null,
            "display": null,
            "flex": null,
            "flex_flow": null,
            "grid_area": null,
            "grid_auto_columns": null,
            "grid_auto_flow": null,
            "grid_auto_rows": null,
            "grid_column": null,
            "grid_gap": null,
            "grid_row": null,
            "grid_template_areas": null,
            "grid_template_columns": null,
            "grid_template_rows": null,
            "height": null,
            "justify_content": null,
            "justify_items": null,
            "left": null,
            "margin": null,
            "max_height": null,
            "max_width": null,
            "min_height": null,
            "min_width": null,
            "object_fit": null,
            "object_position": null,
            "order": null,
            "overflow": null,
            "overflow_x": null,
            "overflow_y": null,
            "padding": null,
            "right": null,
            "top": null,
            "visibility": null,
            "width": null
          }
        },
        "64b43cd15444413a8fdd4b4e285971e6": {
          "model_module": "@jupyter-widgets/controls",
          "model_name": "ProgressStyleModel",
          "model_module_version": "1.5.0",
          "state": {
            "_model_module": "@jupyter-widgets/controls",
            "_model_module_version": "1.5.0",
            "_model_name": "ProgressStyleModel",
            "_view_count": null,
            "_view_module": "@jupyter-widgets/base",
            "_view_module_version": "1.2.0",
            "_view_name": "StyleView",
            "bar_color": null,
            "description_width": ""
          }
        },
        "73b26fc41d7949d3890e99a7504a449c": {
          "model_module": "@jupyter-widgets/base",
          "model_name": "LayoutModel",
          "model_module_version": "1.2.0",
          "state": {
            "_model_module": "@jupyter-widgets/base",
            "_model_module_version": "1.2.0",
            "_model_name": "LayoutModel",
            "_view_count": null,
            "_view_module": "@jupyter-widgets/base",
            "_view_module_version": "1.2.0",
            "_view_name": "LayoutView",
            "align_content": null,
            "align_items": null,
            "align_self": null,
            "border": null,
            "bottom": null,
            "display": null,
            "flex": null,
            "flex_flow": null,
            "grid_area": null,
            "grid_auto_columns": null,
            "grid_auto_flow": null,
            "grid_auto_rows": null,
            "grid_column": null,
            "grid_gap": null,
            "grid_row": null,
            "grid_template_areas": null,
            "grid_template_columns": null,
            "grid_template_rows": null,
            "height": null,
            "justify_content": null,
            "justify_items": null,
            "left": null,
            "margin": null,
            "max_height": null,
            "max_width": null,
            "min_height": null,
            "min_width": null,
            "object_fit": null,
            "object_position": null,
            "order": null,
            "overflow": null,
            "overflow_x": null,
            "overflow_y": null,
            "padding": null,
            "right": null,
            "top": null,
            "visibility": null,
            "width": null
          }
        },
        "fc820a3e971445379019f35d513974c9": {
          "model_module": "@jupyter-widgets/controls",
          "model_name": "DescriptionStyleModel",
          "model_module_version": "1.5.0",
          "state": {
            "_model_module": "@jupyter-widgets/controls",
            "_model_module_version": "1.5.0",
            "_model_name": "DescriptionStyleModel",
            "_view_count": null,
            "_view_module": "@jupyter-widgets/base",
            "_view_module_version": "1.2.0",
            "_view_name": "StyleView",
            "description_width": ""
          }
        },
        "ea7d1193ead440118848ac82ac2978ef": {
          "model_module": "@jupyter-widgets/controls",
          "model_name": "HBoxModel",
          "model_module_version": "1.5.0",
          "state": {
            "_dom_classes": [],
            "_model_module": "@jupyter-widgets/controls",
            "_model_module_version": "1.5.0",
            "_model_name": "HBoxModel",
            "_view_count": null,
            "_view_module": "@jupyter-widgets/controls",
            "_view_module_version": "1.5.0",
            "_view_name": "HBoxView",
            "box_style": "",
            "children": [
              "IPY_MODEL_3a98f3915f7f47658ddba123c1c43fec",
              "IPY_MODEL_a71d15db1a7a4bf0b2be755e4e1d38ec",
              "IPY_MODEL_8722f267d6c044c3bc681761d304db16"
            ],
            "layout": "IPY_MODEL_89a5f119577d4f3d81f76b6deaabcb83"
          }
        },
        "3a98f3915f7f47658ddba123c1c43fec": {
          "model_module": "@jupyter-widgets/controls",
          "model_name": "HTMLModel",
          "model_module_version": "1.5.0",
          "state": {
            "_dom_classes": [],
            "_model_module": "@jupyter-widgets/controls",
            "_model_module_version": "1.5.0",
            "_model_name": "HTMLModel",
            "_view_count": null,
            "_view_module": "@jupyter-widgets/controls",
            "_view_module_version": "1.5.0",
            "_view_name": "HTMLView",
            "description": "",
            "description_tooltip": null,
            "layout": "IPY_MODEL_38a8a2eb6b244097838c38fdb74be41d",
            "placeholder": "​",
            "style": "IPY_MODEL_583b1871841c44439d86e27f1d0c165a",
            "value": "100%"
          }
        },
        "a71d15db1a7a4bf0b2be755e4e1d38ec": {
          "model_module": "@jupyter-widgets/controls",
          "model_name": "FloatProgressModel",
          "model_module_version": "1.5.0",
          "state": {
            "_dom_classes": [],
            "_model_module": "@jupyter-widgets/controls",
            "_model_module_version": "1.5.0",
            "_model_name": "FloatProgressModel",
            "_view_count": null,
            "_view_module": "@jupyter-widgets/controls",
            "_view_module_version": "1.5.0",
            "_view_name": "ProgressView",
            "bar_style": "success",
            "description": "",
            "description_tooltip": null,
            "layout": "IPY_MODEL_5112a13ff281450e9d1c0e5145baf7c3",
            "max": 1,
            "min": 0,
            "orientation": "horizontal",
            "style": "IPY_MODEL_2046de58e64b45a3aff6b4c234e3e731",
            "value": 1
          }
        },
        "8722f267d6c044c3bc681761d304db16": {
          "model_module": "@jupyter-widgets/controls",
          "model_name": "HTMLModel",
          "model_module_version": "1.5.0",
          "state": {
            "_dom_classes": [],
            "_model_module": "@jupyter-widgets/controls",
            "_model_module_version": "1.5.0",
            "_model_name": "HTMLModel",
            "_view_count": null,
            "_view_module": "@jupyter-widgets/controls",
            "_view_module_version": "1.5.0",
            "_view_name": "HTMLView",
            "description": "",
            "description_tooltip": null,
            "layout": "IPY_MODEL_ed42100f148f4ef1b2a66c503f045b22",
            "placeholder": "​",
            "style": "IPY_MODEL_9dd4cffbaeb54e6383c99dab75ab9ddf",
            "value": " 1/1 [00:00&lt;00:00,  1.79ba/s]"
          }
        },
        "89a5f119577d4f3d81f76b6deaabcb83": {
          "model_module": "@jupyter-widgets/base",
          "model_name": "LayoutModel",
          "model_module_version": "1.2.0",
          "state": {
            "_model_module": "@jupyter-widgets/base",
            "_model_module_version": "1.2.0",
            "_model_name": "LayoutModel",
            "_view_count": null,
            "_view_module": "@jupyter-widgets/base",
            "_view_module_version": "1.2.0",
            "_view_name": "LayoutView",
            "align_content": null,
            "align_items": null,
            "align_self": null,
            "border": null,
            "bottom": null,
            "display": null,
            "flex": null,
            "flex_flow": null,
            "grid_area": null,
            "grid_auto_columns": null,
            "grid_auto_flow": null,
            "grid_auto_rows": null,
            "grid_column": null,
            "grid_gap": null,
            "grid_row": null,
            "grid_template_areas": null,
            "grid_template_columns": null,
            "grid_template_rows": null,
            "height": null,
            "justify_content": null,
            "justify_items": null,
            "left": null,
            "margin": null,
            "max_height": null,
            "max_width": null,
            "min_height": null,
            "min_width": null,
            "object_fit": null,
            "object_position": null,
            "order": null,
            "overflow": null,
            "overflow_x": null,
            "overflow_y": null,
            "padding": null,
            "right": null,
            "top": null,
            "visibility": null,
            "width": null
          }
        },
        "38a8a2eb6b244097838c38fdb74be41d": {
          "model_module": "@jupyter-widgets/base",
          "model_name": "LayoutModel",
          "model_module_version": "1.2.0",
          "state": {
            "_model_module": "@jupyter-widgets/base",
            "_model_module_version": "1.2.0",
            "_model_name": "LayoutModel",
            "_view_count": null,
            "_view_module": "@jupyter-widgets/base",
            "_view_module_version": "1.2.0",
            "_view_name": "LayoutView",
            "align_content": null,
            "align_items": null,
            "align_self": null,
            "border": null,
            "bottom": null,
            "display": null,
            "flex": null,
            "flex_flow": null,
            "grid_area": null,
            "grid_auto_columns": null,
            "grid_auto_flow": null,
            "grid_auto_rows": null,
            "grid_column": null,
            "grid_gap": null,
            "grid_row": null,
            "grid_template_areas": null,
            "grid_template_columns": null,
            "grid_template_rows": null,
            "height": null,
            "justify_content": null,
            "justify_items": null,
            "left": null,
            "margin": null,
            "max_height": null,
            "max_width": null,
            "min_height": null,
            "min_width": null,
            "object_fit": null,
            "object_position": null,
            "order": null,
            "overflow": null,
            "overflow_x": null,
            "overflow_y": null,
            "padding": null,
            "right": null,
            "top": null,
            "visibility": null,
            "width": null
          }
        },
        "583b1871841c44439d86e27f1d0c165a": {
          "model_module": "@jupyter-widgets/controls",
          "model_name": "DescriptionStyleModel",
          "model_module_version": "1.5.0",
          "state": {
            "_model_module": "@jupyter-widgets/controls",
            "_model_module_version": "1.5.0",
            "_model_name": "DescriptionStyleModel",
            "_view_count": null,
            "_view_module": "@jupyter-widgets/base",
            "_view_module_version": "1.2.0",
            "_view_name": "StyleView",
            "description_width": ""
          }
        },
        "5112a13ff281450e9d1c0e5145baf7c3": {
          "model_module": "@jupyter-widgets/base",
          "model_name": "LayoutModel",
          "model_module_version": "1.2.0",
          "state": {
            "_model_module": "@jupyter-widgets/base",
            "_model_module_version": "1.2.0",
            "_model_name": "LayoutModel",
            "_view_count": null,
            "_view_module": "@jupyter-widgets/base",
            "_view_module_version": "1.2.0",
            "_view_name": "LayoutView",
            "align_content": null,
            "align_items": null,
            "align_self": null,
            "border": null,
            "bottom": null,
            "display": null,
            "flex": null,
            "flex_flow": null,
            "grid_area": null,
            "grid_auto_columns": null,
            "grid_auto_flow": null,
            "grid_auto_rows": null,
            "grid_column": null,
            "grid_gap": null,
            "grid_row": null,
            "grid_template_areas": null,
            "grid_template_columns": null,
            "grid_template_rows": null,
            "height": null,
            "justify_content": null,
            "justify_items": null,
            "left": null,
            "margin": null,
            "max_height": null,
            "max_width": null,
            "min_height": null,
            "min_width": null,
            "object_fit": null,
            "object_position": null,
            "order": null,
            "overflow": null,
            "overflow_x": null,
            "overflow_y": null,
            "padding": null,
            "right": null,
            "top": null,
            "visibility": null,
            "width": null
          }
        },
        "2046de58e64b45a3aff6b4c234e3e731": {
          "model_module": "@jupyter-widgets/controls",
          "model_name": "ProgressStyleModel",
          "model_module_version": "1.5.0",
          "state": {
            "_model_module": "@jupyter-widgets/controls",
            "_model_module_version": "1.5.0",
            "_model_name": "ProgressStyleModel",
            "_view_count": null,
            "_view_module": "@jupyter-widgets/base",
            "_view_module_version": "1.2.0",
            "_view_name": "StyleView",
            "bar_color": null,
            "description_width": ""
          }
        },
        "ed42100f148f4ef1b2a66c503f045b22": {
          "model_module": "@jupyter-widgets/base",
          "model_name": "LayoutModel",
          "model_module_version": "1.2.0",
          "state": {
            "_model_module": "@jupyter-widgets/base",
            "_model_module_version": "1.2.0",
            "_model_name": "LayoutModel",
            "_view_count": null,
            "_view_module": "@jupyter-widgets/base",
            "_view_module_version": "1.2.0",
            "_view_name": "LayoutView",
            "align_content": null,
            "align_items": null,
            "align_self": null,
            "border": null,
            "bottom": null,
            "display": null,
            "flex": null,
            "flex_flow": null,
            "grid_area": null,
            "grid_auto_columns": null,
            "grid_auto_flow": null,
            "grid_auto_rows": null,
            "grid_column": null,
            "grid_gap": null,
            "grid_row": null,
            "grid_template_areas": null,
            "grid_template_columns": null,
            "grid_template_rows": null,
            "height": null,
            "justify_content": null,
            "justify_items": null,
            "left": null,
            "margin": null,
            "max_height": null,
            "max_width": null,
            "min_height": null,
            "min_width": null,
            "object_fit": null,
            "object_position": null,
            "order": null,
            "overflow": null,
            "overflow_x": null,
            "overflow_y": null,
            "padding": null,
            "right": null,
            "top": null,
            "visibility": null,
            "width": null
          }
        },
        "9dd4cffbaeb54e6383c99dab75ab9ddf": {
          "model_module": "@jupyter-widgets/controls",
          "model_name": "DescriptionStyleModel",
          "model_module_version": "1.5.0",
          "state": {
            "_model_module": "@jupyter-widgets/controls",
            "_model_module_version": "1.5.0",
            "_model_name": "DescriptionStyleModel",
            "_view_count": null,
            "_view_module": "@jupyter-widgets/base",
            "_view_module_version": "1.2.0",
            "_view_name": "StyleView",
            "description_width": ""
          }
        },
        "347f84a481954f48993051db4bab3398": {
          "model_module": "@jupyter-widgets/controls",
          "model_name": "HBoxModel",
          "model_module_version": "1.5.0",
          "state": {
            "_dom_classes": [],
            "_model_module": "@jupyter-widgets/controls",
            "_model_module_version": "1.5.0",
            "_model_name": "HBoxModel",
            "_view_count": null,
            "_view_module": "@jupyter-widgets/controls",
            "_view_module_version": "1.5.0",
            "_view_name": "HBoxView",
            "box_style": "",
            "children": [
              "IPY_MODEL_bfbdbddeb1684283a425b9efd6e58442",
              "IPY_MODEL_12356511bbfe49c6b41745945853f709",
              "IPY_MODEL_488fbc5c44474703897622f153c62700"
            ],
            "layout": "IPY_MODEL_3b590aba6ad84a9883c6d5990bee03a1"
          }
        },
        "bfbdbddeb1684283a425b9efd6e58442": {
          "model_module": "@jupyter-widgets/controls",
          "model_name": "HTMLModel",
          "model_module_version": "1.5.0",
          "state": {
            "_dom_classes": [],
            "_model_module": "@jupyter-widgets/controls",
            "_model_module_version": "1.5.0",
            "_model_name": "HTMLModel",
            "_view_count": null,
            "_view_module": "@jupyter-widgets/controls",
            "_view_module_version": "1.5.0",
            "_view_name": "HTMLView",
            "description": "",
            "description_tooltip": null,
            "layout": "IPY_MODEL_6e3fb5a703214215b173df86027c75e8",
            "placeholder": "​",
            "style": "IPY_MODEL_e3b71d9a261b42b3a6f49a8e2f0af7a9",
            "value": "100%"
          }
        },
        "12356511bbfe49c6b41745945853f709": {
          "model_module": "@jupyter-widgets/controls",
          "model_name": "FloatProgressModel",
          "model_module_version": "1.5.0",
          "state": {
            "_dom_classes": [],
            "_model_module": "@jupyter-widgets/controls",
            "_model_module_version": "1.5.0",
            "_model_name": "FloatProgressModel",
            "_view_count": null,
            "_view_module": "@jupyter-widgets/controls",
            "_view_module_version": "1.5.0",
            "_view_name": "ProgressView",
            "bar_style": "success",
            "description": "",
            "description_tooltip": null,
            "layout": "IPY_MODEL_44633272066f49c2b04f65ecc501e3b1",
            "max": 1,
            "min": 0,
            "orientation": "horizontal",
            "style": "IPY_MODEL_f32c82bdeb1a4e3e997ff6b80c3ad1a4",
            "value": 1
          }
        },
        "488fbc5c44474703897622f153c62700": {
          "model_module": "@jupyter-widgets/controls",
          "model_name": "HTMLModel",
          "model_module_version": "1.5.0",
          "state": {
            "_dom_classes": [],
            "_model_module": "@jupyter-widgets/controls",
            "_model_module_version": "1.5.0",
            "_model_name": "HTMLModel",
            "_view_count": null,
            "_view_module": "@jupyter-widgets/controls",
            "_view_module_version": "1.5.0",
            "_view_name": "HTMLView",
            "description": "",
            "description_tooltip": null,
            "layout": "IPY_MODEL_abb4d7c66420441e826f6b5b7e0a004b",
            "placeholder": "​",
            "style": "IPY_MODEL_2dd97cdf17b2419fb2d88d266c13993e",
            "value": " 1/1 [00:00&lt;00:00,  1.98ba/s]"
          }
        },
        "3b590aba6ad84a9883c6d5990bee03a1": {
          "model_module": "@jupyter-widgets/base",
          "model_name": "LayoutModel",
          "model_module_version": "1.2.0",
          "state": {
            "_model_module": "@jupyter-widgets/base",
            "_model_module_version": "1.2.0",
            "_model_name": "LayoutModel",
            "_view_count": null,
            "_view_module": "@jupyter-widgets/base",
            "_view_module_version": "1.2.0",
            "_view_name": "LayoutView",
            "align_content": null,
            "align_items": null,
            "align_self": null,
            "border": null,
            "bottom": null,
            "display": null,
            "flex": null,
            "flex_flow": null,
            "grid_area": null,
            "grid_auto_columns": null,
            "grid_auto_flow": null,
            "grid_auto_rows": null,
            "grid_column": null,
            "grid_gap": null,
            "grid_row": null,
            "grid_template_areas": null,
            "grid_template_columns": null,
            "grid_template_rows": null,
            "height": null,
            "justify_content": null,
            "justify_items": null,
            "left": null,
            "margin": null,
            "max_height": null,
            "max_width": null,
            "min_height": null,
            "min_width": null,
            "object_fit": null,
            "object_position": null,
            "order": null,
            "overflow": null,
            "overflow_x": null,
            "overflow_y": null,
            "padding": null,
            "right": null,
            "top": null,
            "visibility": null,
            "width": null
          }
        },
        "6e3fb5a703214215b173df86027c75e8": {
          "model_module": "@jupyter-widgets/base",
          "model_name": "LayoutModel",
          "model_module_version": "1.2.0",
          "state": {
            "_model_module": "@jupyter-widgets/base",
            "_model_module_version": "1.2.0",
            "_model_name": "LayoutModel",
            "_view_count": null,
            "_view_module": "@jupyter-widgets/base",
            "_view_module_version": "1.2.0",
            "_view_name": "LayoutView",
            "align_content": null,
            "align_items": null,
            "align_self": null,
            "border": null,
            "bottom": null,
            "display": null,
            "flex": null,
            "flex_flow": null,
            "grid_area": null,
            "grid_auto_columns": null,
            "grid_auto_flow": null,
            "grid_auto_rows": null,
            "grid_column": null,
            "grid_gap": null,
            "grid_row": null,
            "grid_template_areas": null,
            "grid_template_columns": null,
            "grid_template_rows": null,
            "height": null,
            "justify_content": null,
            "justify_items": null,
            "left": null,
            "margin": null,
            "max_height": null,
            "max_width": null,
            "min_height": null,
            "min_width": null,
            "object_fit": null,
            "object_position": null,
            "order": null,
            "overflow": null,
            "overflow_x": null,
            "overflow_y": null,
            "padding": null,
            "right": null,
            "top": null,
            "visibility": null,
            "width": null
          }
        },
        "e3b71d9a261b42b3a6f49a8e2f0af7a9": {
          "model_module": "@jupyter-widgets/controls",
          "model_name": "DescriptionStyleModel",
          "model_module_version": "1.5.0",
          "state": {
            "_model_module": "@jupyter-widgets/controls",
            "_model_module_version": "1.5.0",
            "_model_name": "DescriptionStyleModel",
            "_view_count": null,
            "_view_module": "@jupyter-widgets/base",
            "_view_module_version": "1.2.0",
            "_view_name": "StyleView",
            "description_width": ""
          }
        },
        "44633272066f49c2b04f65ecc501e3b1": {
          "model_module": "@jupyter-widgets/base",
          "model_name": "LayoutModel",
          "model_module_version": "1.2.0",
          "state": {
            "_model_module": "@jupyter-widgets/base",
            "_model_module_version": "1.2.0",
            "_model_name": "LayoutModel",
            "_view_count": null,
            "_view_module": "@jupyter-widgets/base",
            "_view_module_version": "1.2.0",
            "_view_name": "LayoutView",
            "align_content": null,
            "align_items": null,
            "align_self": null,
            "border": null,
            "bottom": null,
            "display": null,
            "flex": null,
            "flex_flow": null,
            "grid_area": null,
            "grid_auto_columns": null,
            "grid_auto_flow": null,
            "grid_auto_rows": null,
            "grid_column": null,
            "grid_gap": null,
            "grid_row": null,
            "grid_template_areas": null,
            "grid_template_columns": null,
            "grid_template_rows": null,
            "height": null,
            "justify_content": null,
            "justify_items": null,
            "left": null,
            "margin": null,
            "max_height": null,
            "max_width": null,
            "min_height": null,
            "min_width": null,
            "object_fit": null,
            "object_position": null,
            "order": null,
            "overflow": null,
            "overflow_x": null,
            "overflow_y": null,
            "padding": null,
            "right": null,
            "top": null,
            "visibility": null,
            "width": null
          }
        },
        "f32c82bdeb1a4e3e997ff6b80c3ad1a4": {
          "model_module": "@jupyter-widgets/controls",
          "model_name": "ProgressStyleModel",
          "model_module_version": "1.5.0",
          "state": {
            "_model_module": "@jupyter-widgets/controls",
            "_model_module_version": "1.5.0",
            "_model_name": "ProgressStyleModel",
            "_view_count": null,
            "_view_module": "@jupyter-widgets/base",
            "_view_module_version": "1.2.0",
            "_view_name": "StyleView",
            "bar_color": null,
            "description_width": ""
          }
        },
        "abb4d7c66420441e826f6b5b7e0a004b": {
          "model_module": "@jupyter-widgets/base",
          "model_name": "LayoutModel",
          "model_module_version": "1.2.0",
          "state": {
            "_model_module": "@jupyter-widgets/base",
            "_model_module_version": "1.2.0",
            "_model_name": "LayoutModel",
            "_view_count": null,
            "_view_module": "@jupyter-widgets/base",
            "_view_module_version": "1.2.0",
            "_view_name": "LayoutView",
            "align_content": null,
            "align_items": null,
            "align_self": null,
            "border": null,
            "bottom": null,
            "display": null,
            "flex": null,
            "flex_flow": null,
            "grid_area": null,
            "grid_auto_columns": null,
            "grid_auto_flow": null,
            "grid_auto_rows": null,
            "grid_column": null,
            "grid_gap": null,
            "grid_row": null,
            "grid_template_areas": null,
            "grid_template_columns": null,
            "grid_template_rows": null,
            "height": null,
            "justify_content": null,
            "justify_items": null,
            "left": null,
            "margin": null,
            "max_height": null,
            "max_width": null,
            "min_height": null,
            "min_width": null,
            "object_fit": null,
            "object_position": null,
            "order": null,
            "overflow": null,
            "overflow_x": null,
            "overflow_y": null,
            "padding": null,
            "right": null,
            "top": null,
            "visibility": null,
            "width": null
          }
        },
        "2dd97cdf17b2419fb2d88d266c13993e": {
          "model_module": "@jupyter-widgets/controls",
          "model_name": "DescriptionStyleModel",
          "model_module_version": "1.5.0",
          "state": {
            "_model_module": "@jupyter-widgets/controls",
            "_model_module_version": "1.5.0",
            "_model_name": "DescriptionStyleModel",
            "_view_count": null,
            "_view_module": "@jupyter-widgets/base",
            "_view_module_version": "1.2.0",
            "_view_name": "StyleView",
            "description_width": ""
          }
        },
        "f1233f12c4fc41019cbb4794504052c6": {
          "model_module": "@jupyter-widgets/controls",
          "model_name": "VBoxModel",
          "model_module_version": "1.5.0",
          "state": {
            "_dom_classes": [],
            "_model_module": "@jupyter-widgets/controls",
            "_model_module_version": "1.5.0",
            "_model_name": "VBoxModel",
            "_view_count": null,
            "_view_module": "@jupyter-widgets/controls",
            "_view_module_version": "1.5.0",
            "_view_name": "VBoxView",
            "box_style": "",
            "children": [
              "IPY_MODEL_524f5b656c7f41f1b311f529acdc8a66",
              "IPY_MODEL_549380764cd44489823648de32669934"
            ],
            "layout": "IPY_MODEL_28b9f77859fb45c0943436bdcb6d481c"
          }
        },
        "524f5b656c7f41f1b311f529acdc8a66": {
          "model_module": "@jupyter-widgets/controls",
          "model_name": "LabelModel",
          "model_module_version": "1.5.0",
          "state": {
            "_dom_classes": [],
            "_model_module": "@jupyter-widgets/controls",
            "_model_module_version": "1.5.0",
            "_model_name": "LabelModel",
            "_view_count": null,
            "_view_module": "@jupyter-widgets/controls",
            "_view_module_version": "1.5.0",
            "_view_name": "LabelView",
            "description": "",
            "description_tooltip": null,
            "layout": "IPY_MODEL_e8fd9ae66d074624898cad8e64dc06e7",
            "placeholder": "​",
            "style": "IPY_MODEL_30d1c6e606ac4bc984c151788fc3b488",
            "value": "0.258 MB of 0.258 MB uploaded (0.000 MB deduped)\r"
          }
        },
        "549380764cd44489823648de32669934": {
          "model_module": "@jupyter-widgets/controls",
          "model_name": "FloatProgressModel",
          "model_module_version": "1.5.0",
          "state": {
            "_dom_classes": [],
            "_model_module": "@jupyter-widgets/controls",
            "_model_module_version": "1.5.0",
            "_model_name": "FloatProgressModel",
            "_view_count": null,
            "_view_module": "@jupyter-widgets/controls",
            "_view_module_version": "1.5.0",
            "_view_name": "ProgressView",
            "bar_style": "",
            "description": "",
            "description_tooltip": null,
            "layout": "IPY_MODEL_1c5376ca7aaf46deb928e2296dbe7c59",
            "max": 1,
            "min": 0,
            "orientation": "horizontal",
            "style": "IPY_MODEL_6056e30f851b4f9ba91a2a1e62b40c1b",
            "value": 1
          }
        },
        "28b9f77859fb45c0943436bdcb6d481c": {
          "model_module": "@jupyter-widgets/base",
          "model_name": "LayoutModel",
          "model_module_version": "1.2.0",
          "state": {
            "_model_module": "@jupyter-widgets/base",
            "_model_module_version": "1.2.0",
            "_model_name": "LayoutModel",
            "_view_count": null,
            "_view_module": "@jupyter-widgets/base",
            "_view_module_version": "1.2.0",
            "_view_name": "LayoutView",
            "align_content": null,
            "align_items": null,
            "align_self": null,
            "border": null,
            "bottom": null,
            "display": null,
            "flex": null,
            "flex_flow": null,
            "grid_area": null,
            "grid_auto_columns": null,
            "grid_auto_flow": null,
            "grid_auto_rows": null,
            "grid_column": null,
            "grid_gap": null,
            "grid_row": null,
            "grid_template_areas": null,
            "grid_template_columns": null,
            "grid_template_rows": null,
            "height": null,
            "justify_content": null,
            "justify_items": null,
            "left": null,
            "margin": null,
            "max_height": null,
            "max_width": null,
            "min_height": null,
            "min_width": null,
            "object_fit": null,
            "object_position": null,
            "order": null,
            "overflow": null,
            "overflow_x": null,
            "overflow_y": null,
            "padding": null,
            "right": null,
            "top": null,
            "visibility": null,
            "width": null
          }
        },
        "e8fd9ae66d074624898cad8e64dc06e7": {
          "model_module": "@jupyter-widgets/base",
          "model_name": "LayoutModel",
          "model_module_version": "1.2.0",
          "state": {
            "_model_module": "@jupyter-widgets/base",
            "_model_module_version": "1.2.0",
            "_model_name": "LayoutModel",
            "_view_count": null,
            "_view_module": "@jupyter-widgets/base",
            "_view_module_version": "1.2.0",
            "_view_name": "LayoutView",
            "align_content": null,
            "align_items": null,
            "align_self": null,
            "border": null,
            "bottom": null,
            "display": null,
            "flex": null,
            "flex_flow": null,
            "grid_area": null,
            "grid_auto_columns": null,
            "grid_auto_flow": null,
            "grid_auto_rows": null,
            "grid_column": null,
            "grid_gap": null,
            "grid_row": null,
            "grid_template_areas": null,
            "grid_template_columns": null,
            "grid_template_rows": null,
            "height": null,
            "justify_content": null,
            "justify_items": null,
            "left": null,
            "margin": null,
            "max_height": null,
            "max_width": null,
            "min_height": null,
            "min_width": null,
            "object_fit": null,
            "object_position": null,
            "order": null,
            "overflow": null,
            "overflow_x": null,
            "overflow_y": null,
            "padding": null,
            "right": null,
            "top": null,
            "visibility": null,
            "width": null
          }
        },
        "30d1c6e606ac4bc984c151788fc3b488": {
          "model_module": "@jupyter-widgets/controls",
          "model_name": "DescriptionStyleModel",
          "model_module_version": "1.5.0",
          "state": {
            "_model_module": "@jupyter-widgets/controls",
            "_model_module_version": "1.5.0",
            "_model_name": "DescriptionStyleModel",
            "_view_count": null,
            "_view_module": "@jupyter-widgets/base",
            "_view_module_version": "1.2.0",
            "_view_name": "StyleView",
            "description_width": ""
          }
        },
        "1c5376ca7aaf46deb928e2296dbe7c59": {
          "model_module": "@jupyter-widgets/base",
          "model_name": "LayoutModel",
          "model_module_version": "1.2.0",
          "state": {
            "_model_module": "@jupyter-widgets/base",
            "_model_module_version": "1.2.0",
            "_model_name": "LayoutModel",
            "_view_count": null,
            "_view_module": "@jupyter-widgets/base",
            "_view_module_version": "1.2.0",
            "_view_name": "LayoutView",
            "align_content": null,
            "align_items": null,
            "align_self": null,
            "border": null,
            "bottom": null,
            "display": null,
            "flex": null,
            "flex_flow": null,
            "grid_area": null,
            "grid_auto_columns": null,
            "grid_auto_flow": null,
            "grid_auto_rows": null,
            "grid_column": null,
            "grid_gap": null,
            "grid_row": null,
            "grid_template_areas": null,
            "grid_template_columns": null,
            "grid_template_rows": null,
            "height": null,
            "justify_content": null,
            "justify_items": null,
            "left": null,
            "margin": null,
            "max_height": null,
            "max_width": null,
            "min_height": null,
            "min_width": null,
            "object_fit": null,
            "object_position": null,
            "order": null,
            "overflow": null,
            "overflow_x": null,
            "overflow_y": null,
            "padding": null,
            "right": null,
            "top": null,
            "visibility": null,
            "width": null
          }
        },
        "6056e30f851b4f9ba91a2a1e62b40c1b": {
          "model_module": "@jupyter-widgets/controls",
          "model_name": "ProgressStyleModel",
          "model_module_version": "1.5.0",
          "state": {
            "_model_module": "@jupyter-widgets/controls",
            "_model_module_version": "1.5.0",
            "_model_name": "ProgressStyleModel",
            "_view_count": null,
            "_view_module": "@jupyter-widgets/base",
            "_view_module_version": "1.2.0",
            "_view_name": "StyleView",
            "bar_color": null,
            "description_width": ""
          }
        }
      }
    }
  },
  "cells": [
    {
      "cell_type": "markdown",
      "source": [
        "# Fine-tuning an emotion classifier on the EEC dataset "
      ],
      "metadata": {
        "id": "Woe57RviSIKW"
      }
    },
    {
      "cell_type": "markdown",
      "source": [
        "# Installations, imports and models"
      ],
      "metadata": {
        "id": "DhaElRhBlcRf"
      }
    },
    {
      "cell_type": "code",
      "source": [
        "! pip install transformers datasets wandb -q"
      ],
      "metadata": {
        "id": "MqVUgoO_lbNO"
      },
      "execution_count": null,
      "outputs": []
    },
    {
      "cell_type": "code",
      "source": [
        "import pandas as pd\n",
        "import numpy as np\n",
        "import matplotlib.pyplot as plt\n",
        "import seaborn as sn \n",
        "import torch  \n",
        "import wandb\n",
        "\n",
        "from sklearn.metrics import accuracy_score, f1_score, confusion_matrix, ConfusionMatrixDisplay\n",
        "from datasets import load_dataset\n",
        "from transformers import DistilBertTokenizer, AutoModelForSequenceClassification, Trainer, TrainingArguments"
      ],
      "metadata": {
        "id": "I7RejIn1lkGG"
      },
      "execution_count": null,
      "outputs": []
    },
    {
      "cell_type": "code",
      "source": [
        "model_ckpt = 'distilbert-base-uncased'\n",
        "device = torch.device(\"cuda\") if torch.cuda.is_available() else torch.device(\"cpu\")"
      ],
      "metadata": {
        "id": "s4GBsjjJrpqM"
      },
      "execution_count": null,
      "outputs": []
    },
    {
      "cell_type": "markdown",
      "source": [
        "\n",
        "# Equity Evaluation Corpus (EEC) - A closer look to the dataset 🔬\n",
        "-------------------------------------------------\n",
        "\n",
        "The Equity Evaluation Corpus is a dataset of 8,640 English sentences that can be used to \n",
        "determine whether automatic systems consistently give higher (or lower) sentiment intensity scores to sentences involving  a particular race or gender.\n",
        "\n"
      ],
      "metadata": {
        "id": "Df-r3MIgTLLV"
      }
    },
    {
      "cell_type": "code",
      "execution_count": null,
      "metadata": {
        "colab": {
          "base_uri": "https://localhost:8080/"
        },
        "id": "RWSJpsyKqHjH",
        "outputId": "5e9a0286-42d0-4b22-9c8f-a904b48af9b6"
      },
      "outputs": [
        {
          "output_type": "stream",
          "name": "stdout",
          "text": [
            "--2022-05-31 00:05:15--  https://saifmohammad.com/WebDocs/EEC/Equity-Evaluation-Corpus.zip\n",
            "Resolving saifmohammad.com (saifmohammad.com)... 192.185.17.122\n",
            "Connecting to saifmohammad.com (saifmohammad.com)|192.185.17.122|:443... connected.\n",
            "HTTP request sent, awaiting response... 200 OK\n",
            "Length: 1669592 (1.6M) [application/zip]\n",
            "Saving to: ‘Equity-Evaluation-Corpus.zip.2’\n",
            "\n",
            "Equity-Evaluation-C 100%[===================>]   1.59M  1.18MB/s    in 1.3s    \n",
            "\n",
            "2022-05-31 00:05:18 (1.18 MB/s) - ‘Equity-Evaluation-Corpus.zip.2’ saved [1669592/1669592]\n",
            "\n",
            "Archive:  Equity-Evaluation-Corpus.zip\n",
            "replace Equity-Evaluation-Corpus/README.txt? [y]es, [n]o, [A]ll, [N]one, [r]ename: yy\n",
            "  inflating: Equity-Evaluation-Corpus/README.txt  \n",
            "replace __MACOSX/Equity-Evaluation-Corpus/._README.txt? [y]es, [n]o, [A]ll, [N]one, [r]ename: y\n",
            "  inflating: __MACOSX/Equity-Evaluation-Corpus/._README.txt  \n",
            "replace Equity-Evaluation-Corpus/Biases-StarSem-2018-with-appendix.pdf? [y]es, [n]o, [A]ll, [N]one, [r]ename: y\n",
            "  inflating: Equity-Evaluation-Corpus/Biases-StarSem-2018-with-appendix.pdf  \n",
            "replace __MACOSX/Equity-Evaluation-Corpus/._Biases-StarSem-2018-with-appendix.pdf? [y]es, [n]o, [A]ll, [N]one, [r]ename: y\n",
            "  inflating: __MACOSX/Equity-Evaluation-Corpus/._Biases-StarSem-2018-with-appendix.pdf  \n",
            "replace Equity-Evaluation-Corpus/Equity-Evaluation-Corpus.csv? [y]es, [n]o, [A]ll, [N]one, [r]ename: y\n",
            "  inflating: Equity-Evaluation-Corpus/Equity-Evaluation-Corpus.csv  \n",
            "replace __MACOSX/Equity-Evaluation-Corpus/._Equity-Evaluation-Corpus.csv? [y]es, [n]o, [A]ll, [N]one, [r]ename: y\n",
            "  inflating: __MACOSX/Equity-Evaluation-Corpus/._Equity-Evaluation-Corpus.csv  \n"
          ]
        }
      ],
      "source": [
        "!wget \"https://saifmohammad.com/WebDocs/EEC/Equity-Evaluation-Corpus.zip\"\n",
        "!unzip \"Equity-Evaluation-Corpus.zip\""
      ]
    },
    {
      "cell_type": "markdown",
      "source": [
        "Let's \"become one with the data\"!"
      ],
      "metadata": {
        "id": "NbrojyBOqDg9"
      }
    },
    {
      "cell_type": "code",
      "source": [
        "initial_df = pd.read_csv('Equity-Evaluation-Corpus/Equity-Evaluation-Corpus.csv')\n",
        "initial_df.dropna(inplace=True)\n",
        "initial_df.info()"
      ],
      "metadata": {
        "colab": {
          "base_uri": "https://localhost:8080/"
        },
        "id": "lU7KLp_bpwHt",
        "outputId": "9a84dda1-8321-4fa9-b563-f1f29264c564"
      },
      "execution_count": null,
      "outputs": [
        {
          "output_type": "stream",
          "name": "stdout",
          "text": [
            "<class 'pandas.core.frame.DataFrame'>\n",
            "Int64Index: 5600 entries, 0 to 8439\n",
            "Data columns (total 8 columns):\n",
            " #   Column        Non-Null Count  Dtype \n",
            "---  ------        --------------  ----- \n",
            " 0   ID            5600 non-null   object\n",
            " 1   Sentence      5600 non-null   object\n",
            " 2   Template      5600 non-null   object\n",
            " 3   Person        5600 non-null   object\n",
            " 4   Gender        5600 non-null   object\n",
            " 5   Race          5600 non-null   object\n",
            " 6   Emotion       5600 non-null   object\n",
            " 7   Emotion word  5600 non-null   object\n",
            "dtypes: object(8)\n",
            "memory usage: 393.8+ KB\n"
          ]
        }
      ]
    },
    {
      "cell_type": "markdown",
      "source": [
        "Looking at class distribution:"
      ],
      "metadata": {
        "id": "GjokJeE1qQfN"
      }
    },
    {
      "cell_type": "code",
      "source": [
        "initial_df['Emotion'].value_counts(ascending=True).plot.barh()"
      ],
      "metadata": {
        "colab": {
          "base_uri": "https://localhost:8080/",
          "height": 283
        },
        "id": "7zk0G1tdqTDo",
        "outputId": "eb940a89-1535-4d12-ad89-1e52151efb43"
      },
      "execution_count": null,
      "outputs": [
        {
          "output_type": "execute_result",
          "data": {
            "text/plain": [
              "<matplotlib.axes._subplots.AxesSubplot at 0x7f0ba27c7150>"
            ]
          },
          "metadata": {},
          "execution_count": 98
        },
        {
          "output_type": "display_data",
          "data": {
            "text/plain": [
              "<Figure size 432x288 with 1 Axes>"
            ],
            "image/png": "[encoded data removed]"
          },
          "metadata": {
            "needs_background": "light"
          }
        }
      ]
    },
    {
      "cell_type": "markdown",
      "source": [
        "Our dataset seems suspiciously balanced. \n",
        "\n",
        "Why? 🤔\n",
        "\n",
        "Most probably because it has been artificially created based on a template.\n",
        "Indeed, by takeing a look at the dataset's description we read:\n",
        "\n",
        "\n",
        ">*The sentences are generated from eleven templates by instantiating the noun phrase variable with one of the pre-chosen values:*\n",
        "> - *common African American female first names,*\n",
        "> - *common African American male first names,*\n",
        "> - *common European American female names,*\n",
        "> - *common European American male first names,*\n",
        "> - *noun phrases referring to females, such as \"my daughter\",*\n",
        "> - *noun phrases referring to males, such as \"my son\".*\n",
        "\n",
        ">*Some sentences include explicit expressions of sentiment and emotion, and some sentences do not. *\n",
        ">*One can derive pairs of sentences from the EEC such that they differ only in one word corresponding to gender or race (e.g., \"My daughter feels devastated\" and \"My son feels devastated\"*\n",
        ">\n",
        "\n",
        "Based on this description, we can expect to have data leakage because, most probably, those template sentences will be repeated in the training and validation/test set with the only difference of having different names/genders.\n",
        "\n",
        "Let's take a look at the tempates:\n"
      ],
      "metadata": {
        "id": "DIHFeHzBvmc6"
      }
    },
    {
      "cell_type": "code",
      "source": [
        "initial_df['Template'].value_counts()"
      ],
      "metadata": {
        "colab": {
          "base_uri": "https://localhost:8080/"
        },
        "id": "0iDdL1cS9hN1",
        "outputId": "bf12c2e3-ffd2-47de-b872-d10da20b6923"
      },
      "execution_count": null,
      "outputs": [
        {
          "output_type": "execute_result",
          "data": {
            "text/plain": [
              "<person subject> feels <emotion word>.                                                  800\n",
              "The situation makes <person object> feel <emotion word>.                                800\n",
              "I made <person object> feel <emotion word>.                                             800\n",
              "<person subject> made me feel <emotion word>.                                           800\n",
              "<person subject> found himself/herself in a/an <emotional situation word> situation.    800\n",
              "<person subject> told us all about the recent <emotional situation word> events.        800\n",
              "The conversation with <person object> was <emotional situation word>.                   800\n",
              "Name: Template, dtype: int64"
            ]
          },
          "metadata": {},
          "execution_count": 99
        }
      ]
    },
    {
      "cell_type": "markdown",
      "source": [
        "In that case we want to ***avoid*** stratification by \"Template\" so that similar sentences are not repeated in the splits:"
      ],
      "metadata": {
        "id": "fm6BSUbo9nHA"
      }
    },
    {
      "cell_type": "code",
      "source": [
        "val = initial_df[:2400]\n",
        "train = initial_df[2401:4000]\n",
        "test = initial_df[4001:]"
      ],
      "metadata": {
        "id": "ZuZGoj587HIM"
      },
      "execution_count": null,
      "outputs": []
    },
    {
      "cell_type": "markdown",
      "source": [
        "Let's check the class distribution in all three sets to make sure we did not cause more harm than good:"
      ],
      "metadata": {
        "id": "gdIck2f1-e25"
      }
    },
    {
      "cell_type": "code",
      "source": [
        "fig, (ax1,ax2,ax3) = plt.subplots(1,3, figsize=(10,4), sharey=True)\n",
        "train['Emotion'].value_counts(ascending=True).plot.barh(ax=ax1)\n",
        "val['Emotion'].value_counts(ascending=True).plot.barh(ax=ax2)\n",
        "test['Emotion'].value_counts(ascending=True).plot.barh(ax=ax3)"
      ],
      "metadata": {
        "colab": {
          "base_uri": "https://localhost:8080/",
          "height": 283
        },
        "id": "Odt_b9Fi-k4X",
        "outputId": "2e940535-bbde-4d11-a106-d53c8f12a314"
      },
      "execution_count": null,
      "outputs": [
        {
          "output_type": "execute_result",
          "data": {
            "text/plain": [
              "<matplotlib.axes._subplots.AxesSubplot at 0x7f0ac0b285d0>"
            ]
          },
          "metadata": {},
          "execution_count": 101
        },
        {
          "output_type": "display_data",
          "data": {
            "text/plain": [
              "<Figure size 720x288 with 3 Axes>"
            ],
            "image/png": "[encoded data removed]"
          },
          "metadata": {
            "needs_background": "light"
          }
        }
      ]
    },
    {
      "cell_type": "markdown",
      "source": [
        "That looks ok. 🙆‍♀️\n",
        "\n",
        "Still, it is good to be aware of the fact that the dataset is artificially balanced in the sense that we are going to find the same names, genders and races across the three splits."
      ],
      "metadata": {
        "id": "bNcTqDMN7b2Y"
      }
    },
    {
      "cell_type": "markdown",
      "source": [
        "Next, we need to know: How long are our sentences?"
      ],
      "metadata": {
        "id": "eL16DFOAqkbK"
      }
    },
    {
      "cell_type": "code",
      "source": [
        "distilbert_tokenizer = DistilBertTokenizer.from_pretrained(model_ckpt)\n",
        "initial_df['Tokens per sentence'] = initial_df['Sentence'].apply(lambda x: len(distilbert_tokenizer.encode(x)))\n",
        "initial_df.boxplot('Tokens per sentence', by='Emotion', grid=False, showfliers=False, patch_artist = True, figsize=(6,8))"
      ],
      "metadata": {
        "colab": {
          "base_uri": "https://localhost:8080/",
          "height": 558
        },
        "id": "LIf_l5vLqnBn",
        "outputId": "2ca18807-7888-4ec7-909d-c135b7cc77df"
      },
      "execution_count": null,
      "outputs": [
        {
          "output_type": "execute_result",
          "data": {
            "text/plain": [
              "<matplotlib.axes._subplots.AxesSubplot at 0x7f0ac2e98250>"
            ]
          },
          "metadata": {},
          "execution_count": 102
        },
        {
          "output_type": "display_data",
          "data": {
            "text/plain": [
              "<Figure size 432x576 with 1 Axes>"
            ],
            "image/png": "[encoded data removed]"
          },
          "metadata": {
            "needs_background": "light"
          }
        }
      ]
    },
    {
      "cell_type": "markdown",
      "source": [
        "From the plot we see that for each emotion, most sentences are around 9 words long, and the longest sentences are well below DistillBERT's maximum context size.\n",
        "\n"
      ],
      "metadata": {
        "id": "qQ2JLu8Fu_yS"
      }
    },
    {
      "cell_type": "markdown",
      "source": [
        "We need to modify our dataset so it can later be digested by the `load_dataset` function\n"
      ],
      "metadata": {
        "id": "CJnPdlYKoxVn"
      }
    },
    {
      "cell_type": "code",
      "source": [
        "def modify_dataset(df, save_name):\n",
        "  df.rename(columns={'Sentence':'text'}, inplace=True)\n",
        "  df['label'] = df['Emotion']\n",
        "  df['label'] = pd.Categorical(df['label'])\n",
        "  df['label'] = df['label'].cat.codes\n",
        "  df.to_csv(f'{save_name}.csv')"
      ],
      "metadata": {
        "id": "LUxGjB22iX8U"
      },
      "execution_count": null,
      "outputs": []
    },
    {
      "cell_type": "code",
      "source": [
        "splits = {'train' : train, 'val': val, 'test': test}\n",
        "for key,value in splits.items():\n",
        "  modify_dataset(value, key)"
      ],
      "metadata": {
        "colab": {
          "base_uri": "https://localhost:8080/"
        },
        "id": "IDXuyCztCO2S",
        "outputId": "315f8e28-07a0-4571-b55f-e0649028d37f"
      },
      "execution_count": null,
      "outputs": [
        {
          "output_type": "stream",
          "name": "stderr",
          "text": [
            "/usr/local/lib/python3.7/dist-packages/pandas/core/frame.py:5047: SettingWithCopyWarning: \n",
            "A value is trying to be set on a copy of a slice from a DataFrame\n",
            "\n",
            "See the caveats in the documentation: https://pandas.pydata.org/pandas-docs/stable/user_guide/indexing.html#returning-a-view-versus-a-copy\n",
            "  errors=errors,\n",
            "/usr/local/lib/python3.7/dist-packages/ipykernel_launcher.py:3: SettingWithCopyWarning: \n",
            "A value is trying to be set on a copy of a slice from a DataFrame.\n",
            "Try using .loc[row_indexer,col_indexer] = value instead\n",
            "\n",
            "See the caveats in the documentation: https://pandas.pydata.org/pandas-docs/stable/user_guide/indexing.html#returning-a-view-versus-a-copy\n",
            "  This is separate from the ipykernel package so we can avoid doing imports until\n",
            "/usr/local/lib/python3.7/dist-packages/ipykernel_launcher.py:4: SettingWithCopyWarning: \n",
            "A value is trying to be set on a copy of a slice from a DataFrame.\n",
            "Try using .loc[row_indexer,col_indexer] = value instead\n",
            "\n",
            "See the caveats in the documentation: https://pandas.pydata.org/pandas-docs/stable/user_guide/indexing.html#returning-a-view-versus-a-copy\n",
            "  after removing the cwd from sys.path.\n",
            "/usr/local/lib/python3.7/dist-packages/ipykernel_launcher.py:5: SettingWithCopyWarning: \n",
            "A value is trying to be set on a copy of a slice from a DataFrame.\n",
            "Try using .loc[row_indexer,col_indexer] = value instead\n",
            "\n",
            "See the caveats in the documentation: https://pandas.pydata.org/pandas-docs/stable/user_guide/indexing.html#returning-a-view-versus-a-copy\n",
            "  \"\"\"\n"
          ]
        }
      ]
    },
    {
      "cell_type": "markdown",
      "source": [
        "Now we load our dataset as a `Dataset` object. We will be using that for training:"
      ],
      "metadata": {
        "id": "bGWeCu8nksEb"
      }
    },
    {
      "cell_type": "code",
      "source": [
        "dataset = load_dataset('csv', data_files={'train':'train.csv', 'val':'val.csv', 'test':'test.csv'})"
      ],
      "metadata": {
        "colab": {
          "base_uri": "https://localhost:8080/",
          "height": 186,
          "referenced_widgets": [
            "5bb5b224e21b4ff8bd0b71286aefedd1",
            "5ce97a031b324c598d19675b0bde6ccf",
            "e74422e325f64d1ca60fa032f091e1da",
            "b899625945af44a586890b1017705559",
            "dd323f37dc8c4a6d97fb1b4397005baa",
            "f1192b291fff43919f9388ca5f31682c",
            "4ee1ea808d3e40d8a292be626e1703e4",
            "3a833acc56bc444981895630344c5d07",
            "67c368e12b304d5eb82dd97343e21aa4",
            "53447518013d4c93ac813c11964bc5f8",
            "0ed418e4f4fb428491c8e0c69a7f1023",
            "d14919a1f7094d8a8e54387b472637c1",
            "7479be768c0b45abafd7d174663f4375",
            "eba378cc4c5f4bf599c9c46021d6c548",
            "01fac590be4044d79e1d2424019c7f52",
            "5c2654069870400daf8e8f3b3b447a2f",
            "2ba20e95f9c64c658f96bf575819960d",
            "465b0308ff854142a6876b986f879930",
            "9462f2cd10954c0a8249b189ed81438c",
            "64935c5df6e84b3fb7fd09f5fd45e34d",
            "0d54bd251e6f447ea923800c11fefa6a",
            "43c82b51b5dd437e877dccaa8448232a",
            "9faf91864440496e82be4f6493438108",
            "d01ac74e203146a99a057fa5e438abec",
            "cc49db26111e4b7781de62f64bb6789b",
            "de828d220217437bb6b342d97a8fdd2c",
            "25b40e95f9c643bba8da260c5d2d08b2",
            "eea862dd562641d782e02f90eb8967b7",
            "3db89fb90ed543b1b08159a8c86dd1e3",
            "ddce3b953a2149b79972f5a02356d84c",
            "0d059279bb484287b254550f717d6d57",
            "1e4021cf9fd041f09783b58ed32840f2",
            "496520094f144e9587975a07f1360b1b"
          ]
        },
        "id": "5e_UBRMmM64D",
        "outputId": "962d6468-ca8a-440f-a922-fe5d02547c02"
      },
      "execution_count": null,
      "outputs": [
        {
          "output_type": "stream",
          "name": "stderr",
          "text": [
            "Using custom data configuration default-634bcb48f0bb287e\n"
          ]
        },
        {
          "output_type": "stream",
          "name": "stdout",
          "text": [
            "Downloading and preparing dataset csv/default to /root/.cache/huggingface/datasets/csv/default-634bcb48f0bb287e/0.0.0/433e0ccc46f9880962cc2b12065189766fbb2bee57a221866138fb9203c83519...\n"
          ]
        },
        {
          "output_type": "display_data",
          "data": {
            "text/plain": [
              "Downloading data files:   0%|          | 0/3 [00:00<?, ?it/s]"
            ],
            "application/vnd.jupyter.widget-view+json": {
              "version_major": 2,
              "version_minor": 0,
              "model_id": "5bb5b224e21b4ff8bd0b71286aefedd1"
            }
          },
          "metadata": {}
        },
        {
          "output_type": "display_data",
          "data": {
            "text/plain": [
              "Extracting data files:   0%|          | 0/3 [00:00<?, ?it/s]"
            ],
            "application/vnd.jupyter.widget-view+json": {
              "version_major": 2,
              "version_minor": 0,
              "model_id": "d14919a1f7094d8a8e54387b472637c1"
            }
          },
          "metadata": {}
        },
        {
          "output_type": "stream",
          "name": "stdout",
          "text": [
            "Dataset csv downloaded and prepared to /root/.cache/huggingface/datasets/csv/default-634bcb48f0bb287e/0.0.0/433e0ccc46f9880962cc2b12065189766fbb2bee57a221866138fb9203c83519. Subsequent calls will reuse this data.\n"
          ]
        },
        {
          "output_type": "display_data",
          "data": {
            "text/plain": [
              "  0%|          | 0/3 [00:00<?, ?it/s]"
            ],
            "application/vnd.jupyter.widget-view+json": {
              "version_major": 2,
              "version_minor": 0,
              "model_id": "9faf91864440496e82be4f6493438108"
            }
          },
          "metadata": {}
        }
      ]
    },
    {
      "cell_type": "markdown",
      "source": [
        "Tokenizing the whole dataset"
      ],
      "metadata": {
        "id": "qS0U8SW5EVh9"
      }
    },
    {
      "cell_type": "code",
      "source": [
        "def tokenize(batch):\n",
        "  return distilbert_tokenizer(batch['text'], padding=True, truncation=True)\n",
        "\n",
        "dataset_encoded = dataset.map(tokenize, batched=True, batch_size=None) # bs=None maps the whole ds as a single batch"
      ],
      "metadata": {
        "colab": {
          "base_uri": "https://localhost:8080/",
          "height": 113,
          "referenced_widgets": [
            "3ae23114ef2e4ef8b80696c9d847194b",
            "0214c31e0fb7444b9a33256844dc5f19",
            "e58a418d169c4479a61d8d1a240cf4b6",
            "0d1c36a972214d26af65c52be3b27cc1",
            "be6a85984c0544f8968788955ee3cb23",
            "2e395d47d72a4840b37c7a76be1be8d9",
            "3d7e9a480e02447a9a94e68f3541a998",
            "648c199f9b3440b8b229a118f761c523",
            "64b43cd15444413a8fdd4b4e285971e6",
            "73b26fc41d7949d3890e99a7504a449c",
            "fc820a3e971445379019f35d513974c9",
            "ea7d1193ead440118848ac82ac2978ef",
            "3a98f3915f7f47658ddba123c1c43fec",
            "a71d15db1a7a4bf0b2be755e4e1d38ec",
            "8722f267d6c044c3bc681761d304db16",
            "89a5f119577d4f3d81f76b6deaabcb83",
            "38a8a2eb6b244097838c38fdb74be41d",
            "583b1871841c44439d86e27f1d0c165a",
            "5112a13ff281450e9d1c0e5145baf7c3",
            "2046de58e64b45a3aff6b4c234e3e731",
            "ed42100f148f4ef1b2a66c503f045b22",
            "9dd4cffbaeb54e6383c99dab75ab9ddf",
            "347f84a481954f48993051db4bab3398",
            "bfbdbddeb1684283a425b9efd6e58442",
            "12356511bbfe49c6b41745945853f709",
            "488fbc5c44474703897622f153c62700",
            "3b590aba6ad84a9883c6d5990bee03a1",
            "6e3fb5a703214215b173df86027c75e8",
            "e3b71d9a261b42b3a6f49a8e2f0af7a9",
            "44633272066f49c2b04f65ecc501e3b1",
            "f32c82bdeb1a4e3e997ff6b80c3ad1a4",
            "abb4d7c66420441e826f6b5b7e0a004b",
            "2dd97cdf17b2419fb2d88d266c13993e"
          ]
        },
        "id": "KkoGK3UGDZEX",
        "outputId": "23d0c121-dc5d-47f4-ff1e-ae4b0530329d"
      },
      "execution_count": null,
      "outputs": [
        {
          "output_type": "display_data",
          "data": {
            "text/plain": [
              "  0%|          | 0/1 [00:00<?, ?ba/s]"
            ],
            "application/vnd.jupyter.widget-view+json": {
              "version_major": 2,
              "version_minor": 0,
              "model_id": "3ae23114ef2e4ef8b80696c9d847194b"
            }
          },
          "metadata": {}
        },
        {
          "output_type": "display_data",
          "data": {
            "text/plain": [
              "  0%|          | 0/1 [00:00<?, ?ba/s]"
            ],
            "application/vnd.jupyter.widget-view+json": {
              "version_major": 2,
              "version_minor": 0,
              "model_id": "ea7d1193ead440118848ac82ac2978ef"
            }
          },
          "metadata": {}
        },
        {
          "output_type": "display_data",
          "data": {
            "text/plain": [
              "  0%|          | 0/1 [00:00<?, ?ba/s]"
            ],
            "application/vnd.jupyter.widget-view+json": {
              "version_major": 2,
              "version_minor": 0,
              "model_id": "347f84a481954f48993051db4bab3398"
            }
          },
          "metadata": {}
        }
      ]
    },
    {
      "cell_type": "markdown",
      "source": [
        "# Now the fun part! 🍦 "
      ],
      "metadata": {
        "id": "QxjZ4l90GviF"
      }
    },
    {
      "cell_type": "markdown",
      "source": [
        "Loading the pretrained DistilBERT model. \n",
        "\n",
        "The main advantage of this model is that it achieves comparable perforance to BERT, while being significantly smaller and more efficient. "
      ],
      "metadata": {
        "id": "-PTp5_CnIBCX"
      }
    },
    {
      "cell_type": "code",
      "source": [
        "num_labels = len(initial_df['Emotion'].unique())\n",
        "model = AutoModelForSequenceClassification.from_pretrained(model_ckpt, num_labels=num_labels).to(device)"
      ],
      "metadata": {
        "id": "Uc5_keLJFRJY"
      },
      "execution_count": null,
      "outputs": []
    },
    {
      "cell_type": "markdown",
      "source": [
        "Defining performance metrics.\n",
        "\n",
        "To monitor the metrics during training we need to define a `compute_metrics` function as our `Trainer` expects. \n",
        "As an input, this function expects an `EvalPrediction` object which is a tuple with `predictions` and `label_ids`. \n",
        "It also needs to return a dict that maps each metric's name to its value. \n",
        "Here, we will be computing F1 and accuracy."
      ],
      "metadata": {
        "id": "8N54sZ2OItoE"
      }
    },
    {
      "cell_type": "code",
      "source": [
        "def compute_metrics(pred):\n",
        "  labels  = pred.label_ids\n",
        "  preds = pred.predictions.argmax(-1)\n",
        "  f1 = f1_score(labels, preds, average='weighted')\n",
        "  acc = accuracy_score(labels, preds)\n",
        "  return {'accuracy': acc, 'f1': f1}"
      ],
      "metadata": {
        "id": "LUVPqwawHi9Q"
      },
      "execution_count": null,
      "outputs": []
    },
    {
      "cell_type": "markdown",
      "source": [
        "Train the model\n"
      ],
      "metadata": {
        "id": "g-HE2csHKLT9"
      }
    },
    {
      "cell_type": "code",
      "source": [
        "batch_size = 64\n",
        "logging_steps = len(dataset['train']) // batch_size\n",
        "model_name = f'{model_ckpt}-finetuned-EEC'\n",
        "training_args = TrainingArguments(output_dir = model_name, \n",
        "                                   num_train_epochs=5,\n",
        "                                   learning_rate = 2e-5,\n",
        "                                   per_device_train_batch_size=batch_size,\n",
        "                                   per_device_eval_batch_size=batch_size,\n",
        "                                   weight_decay=0.01,\n",
        "                                   evaluation_strategy='epoch',\n",
        "                                   disable_tqdm='False',\n",
        "                                   logging_steps=logging_steps,\n",
        "                                   log_level='error'\n",
        "                                   )"
      ],
      "metadata": {
        "id": "n9RuB_w4KGkQ"
      },
      "execution_count": null,
      "outputs": []
    },
    {
      "cell_type": "code",
      "source": [
        "trainer = Trainer(model=model, args=training_args, \n",
        "                  compute_metrics=compute_metrics,\n",
        "                  train_dataset=dataset_encoded['train'],\n",
        "                  eval_dataset=dataset_encoded['test'],\n",
        "                  tokenizer=distilbert_tokenizer\n",
        "                  )"
      ],
      "metadata": {
        "id": "8NRzsOKZLrS6"
      },
      "execution_count": null,
      "outputs": []
    },
    {
      "cell_type": "code",
      "source": [
        "wandb.init()\n",
        "trainer.train()"
      ],
      "metadata": {
        "colab": {
          "base_uri": "https://localhost:8080/",
          "height": 858,
          "referenced_widgets": [
            "f1233f12c4fc41019cbb4794504052c6",
            "524f5b656c7f41f1b311f529acdc8a66",
            "549380764cd44489823648de32669934",
            "28b9f77859fb45c0943436bdcb6d481c",
            "e8fd9ae66d074624898cad8e64dc06e7",
            "30d1c6e606ac4bc984c151788fc3b488",
            "1c5376ca7aaf46deb928e2296dbe7c59",
            "6056e30f851b4f9ba91a2a1e62b40c1b"
          ]
        },
        "id": "rdPBC95xO1tt",
        "outputId": "733326c3-cd67-4617-de5e-5295fcf587c9"
      },
      "execution_count": null,
      "outputs": [
        {
          "output_type": "display_data",
          "data": {
            "text/plain": [
              "<IPython.core.display.HTML object>"
            ],
            "text/html": [
              "Finishing last run (ID:1zv6rmp7) before initializing another..."
            ]
          },
          "metadata": {}
        },
        {
          "output_type": "display_data",
          "data": {
            "text/plain": [
              "<IPython.core.display.HTML object>"
            ],
            "text/html": [
              "Waiting for W&B process to finish... <strong style=\"color:green\">(success).</strong>"
            ]
          },
          "metadata": {}
        },
        {
          "output_type": "display_data",
          "data": {
            "text/plain": [
              "VBox(children=(Label(value='0.001 MB of 0.001 MB uploaded (0.000 MB deduped)\\r'), FloatProgress(value=1.0, max…"
            ],
            "application/vnd.jupyter.widget-view+json": {
              "version_major": 2,
              "version_minor": 0,
              "model_id": "f1233f12c4fc41019cbb4794504052c6"
            }
          },
          "metadata": {}
        },
        {
          "output_type": "display_data",
          "data": {
            "text/plain": [
              "<IPython.core.display.HTML object>"
            ],
            "text/html": [
              "<style>\n",
              "    table.wandb td:nth-child(1) { padding: 0 10px; text-align: left ; width: auto;} td:nth-child(2) {text-align: left ; width: 100%}\n",
              "    .wandb-row { display: flex; flex-direction: row; flex-wrap: wrap; justify-content: flex-start; width: 100% }\n",
              "    .wandb-col { display: flex; flex-direction: column; flex-basis: 100%; flex: 1; padding: 10px; }\n",
              "    </style>\n",
              "<div class=\"wandb-row\"><div class=\"wandb-col\"><h3>Run history:</h3><br/><table class=\"wandb\"><tr><td>eval/accuracy</td><td>▁▆▇██</td></tr><tr><td>eval/f1</td><td>▁▆▇██</td></tr><tr><td>eval/loss</td><td>█▄▂▁▁</td></tr><tr><td>eval/runtime</td><td>▁▂▃▇█</td></tr><tr><td>eval/samples_per_second</td><td>█▇▅▂▁</td></tr><tr><td>eval/steps_per_second</td><td>█▇▅▂▁</td></tr><tr><td>train/epoch</td><td>▁▁▃▃▄▅▆▆███</td></tr><tr><td>train/global_step</td><td>▁▁▃▃▄▅▆▆███</td></tr><tr><td>train/learning_rate</td><td>█▆▅▃▁</td></tr><tr><td>train/loss</td><td>█▅▂▁▁</td></tr><tr><td>train/total_flos</td><td>▁</td></tr><tr><td>train/train_loss</td><td>▁</td></tr><tr><td>train/train_runtime</td><td>▁</td></tr><tr><td>train/train_samples_per_second</td><td>▁</td></tr><tr><td>train/train_steps_per_second</td><td>▁</td></tr></table><br/></div><div class=\"wandb-col\"><h3>Run summary:</h3><br/><table class=\"wandb\"><tr><td>eval/accuracy</td><td>0.94559</td></tr><tr><td>eval/f1</td><td>0.9453</td></tr><tr><td>eval/loss</td><td>0.27187</td></tr><tr><td>eval/runtime</td><td>0.9466</td></tr><tr><td>eval/samples_per_second</td><td>1689.217</td></tr><tr><td>eval/steps_per_second</td><td>26.411</td></tr><tr><td>train/epoch</td><td>5.0</td></tr><tr><td>train/global_step</td><td>125</td></tr><tr><td>train/learning_rate</td><td>0.0</td></tr><tr><td>train/loss</td><td>0.0639</td></tr><tr><td>train/total_flos</td><td>31028748823800.0</td></tr><tr><td>train/train_loss</td><td>0.46726</td></tr><tr><td>train/train_runtime</td><td>17.8534</td></tr><tr><td>train/train_samples_per_second</td><td>447.814</td></tr><tr><td>train/train_steps_per_second</td><td>7.001</td></tr></table><br/></div></div>"
            ]
          },
          "metadata": {}
        },
        {
          "output_type": "display_data",
          "data": {
            "text/plain": [
              "<IPython.core.display.HTML object>"
            ],
            "text/html": [
              "Synced <strong style=\"color:#cdcd00\">pleasant-pyramid-157</strong>: <a href=\"https://wandb.ai/stellakats/uncategorized/runs/1zv6rmp7\" target=\"_blank\">https://wandb.ai/stellakats/uncategorized/runs/1zv6rmp7</a><br/>Synced 5 W&B file(s), 0 media file(s), 0 artifact file(s) and 0 other file(s)"
            ]
          },
          "metadata": {}
        },
        {
          "output_type": "display_data",
          "data": {
            "text/plain": [
              "<IPython.core.display.HTML object>"
            ],
            "text/html": [
              "Find logs at: <code>./wandb/run-20220530_234747-1zv6rmp7/logs</code>"
            ]
          },
          "metadata": {}
        },
        {
          "output_type": "display_data",
          "data": {
            "text/plain": [
              "<IPython.core.display.HTML object>"
            ],
            "text/html": [
              "Successfully finished last run (ID:1zv6rmp7). Initializing new run:<br/>"
            ]
          },
          "metadata": {}
        },
        {
          "output_type": "display_data",
          "data": {
            "text/plain": [
              "<IPython.core.display.HTML object>"
            ],
            "text/html": [
              "Tracking run with wandb version 0.12.17"
            ]
          },
          "metadata": {}
        },
        {
          "output_type": "display_data",
          "data": {
            "text/plain": [
              "<IPython.core.display.HTML object>"
            ],
            "text/html": [
              "Run data is saved locally in <code>/content/wandb/run-20220531_000548-3rq9gd29</code>"
            ]
          },
          "metadata": {}
        },
        {
          "output_type": "display_data",
          "data": {
            "text/plain": [
              "<IPython.core.display.HTML object>"
            ],
            "text/html": [
              "Syncing run <strong><a href=\"https://wandb.ai/stellakats/uncategorized/runs/3rq9gd29\" target=\"_blank\">devout-paper-158</a></strong> to <a href=\"https://wandb.ai/stellakats/uncategorized\" target=\"_blank\">Weights & Biases</a> (<a href=\"https://wandb.me/run\" target=\"_blank\">docs</a>)<br/>"
            ]
          },
          "metadata": {}
        },
        {
          "output_type": "stream",
          "name": "stderr",
          "text": [
            "/usr/local/lib/python3.7/dist-packages/transformers/optimization.py:309: FutureWarning: This implementation of AdamW is deprecated and will be removed in a future version. Use the PyTorch implementation torch.optim.AdamW instead, or set `no_deprecation_warning=True` to disable this warning\n",
            "  FutureWarning,\n"
          ]
        },
        {
          "output_type": "stream",
          "name": "stdout",
          "text": [
            "{'loss': 1.218, 'learning_rate': 1.616e-05, 'epoch': 0.96}\n",
            "{'eval_loss': 1.026824951171875, 'eval_accuracy': 0.8761726078799249, 'eval_f1': 0.8743677622873103, 'eval_runtime': 0.9081, 'eval_samples_per_second': 1760.807, 'eval_steps_per_second': 27.53, 'epoch': 1.0}\n",
            "{'loss': 0.5432, 'learning_rate': 1.232e-05, 'epoch': 1.92}\n",
            "{'eval_loss': 0.5336111187934875, 'eval_accuracy': 0.9693558474046279, 'eval_f1': 0.9690517646922333, 'eval_runtime': 0.9356, 'eval_samples_per_second': 1709.032, 'eval_steps_per_second': 26.72, 'epoch': 2.0}\n",
            "{'loss': 0.1697, 'learning_rate': 8.48e-06, 'epoch': 2.88}\n",
            "{'eval_loss': 0.32290223240852356, 'eval_accuracy': 0.9562226391494684, 'eval_f1': 0.9560396692764764, 'eval_runtime': 1.0149, 'eval_samples_per_second': 1575.468, 'eval_steps_per_second': 24.632, 'epoch': 3.0}\n",
            "{'loss': 0.0813, 'learning_rate': 4.6400000000000005e-06, 'epoch': 3.84}\n",
            "{'eval_loss': 0.2667713165283203, 'eval_accuracy': 0.9437148217636022, 'eval_f1': 0.9435022199888966, 'eval_runtime': 1.0045, 'eval_samples_per_second': 1591.912, 'eval_steps_per_second': 24.889, 'epoch': 4.0}\n",
            "{'loss': 0.0612, 'learning_rate': 8.000000000000001e-07, 'epoch': 4.8}\n",
            "{'eval_loss': 0.25275859236717224, 'eval_accuracy': 0.9487179487179487, 'eval_f1': 0.9485624916321994, 'eval_runtime': 0.9841, 'eval_samples_per_second': 1624.761, 'eval_steps_per_second': 25.403, 'epoch': 5.0}\n",
            "{'train_runtime': 19.3037, 'train_samples_per_second': 414.17, 'train_steps_per_second': 6.475, 'train_loss': 0.40047292375564575, 'epoch': 5.0}\n"
          ]
        },
        {
          "output_type": "execute_result",
          "data": {
            "text/plain": [
              "TrainOutput(global_step=125, training_loss=0.40047292375564575, metrics={'train_runtime': 19.3037, 'train_samples_per_second': 414.17, 'train_steps_per_second': 6.475, 'train_loss': 0.40047292375564575, 'epoch': 5.0})"
            ]
          },
          "metadata": {},
          "execution_count": 111
        }
      ]
    },
    {
      "cell_type": "markdown",
      "source": [
        "Training Results:"
      ],
      "metadata": {
        "id": "FdSWp4Anb0fq"
      }
    },
    {
      "cell_type": "markdown",
      "source": [
        "You can take a look at the results and training curves here: https://wandb.ai/stellakats/uncategorized/reports/Fine-tune-DistilBERT-on-EEC--VmlldzoyMDkxNDkx"
      ],
      "metadata": {
        "id": "feJgqdZbZGAg"
      }
    },
    {
      "cell_type": "markdown",
      "source": [
        "## Test set:"
      ],
      "metadata": {
        "id": "f3PVPYtDZR0A"
      }
    },
    {
      "cell_type": "markdown",
      "source": [
        "Check general performance of the model on test set:"
      ],
      "metadata": {
        "id": "IeQITysbisuG"
      }
    },
    {
      "cell_type": "code",
      "source": [
        "preds_output = trainer.predict(dataset_encoded['test'])\n",
        "preds_output.metrics"
      ],
      "metadata": {
        "colab": {
          "base_uri": "https://localhost:8080/"
        },
        "id": "eYudw3xhVsPb",
        "outputId": "ba4f59e4-5b84-4197-cd95-23dc499fe91c"
      },
      "execution_count": null,
      "outputs": [
        {
          "output_type": "execute_result",
          "data": {
            "text/plain": [
              "{'test_accuracy': 0.9487179487179487,\n",
              " 'test_f1': 0.9485624916321994,\n",
              " 'test_loss': 0.25275859236717224,\n",
              " 'test_runtime': 0.98,\n",
              " 'test_samples_per_second': 1631.711,\n",
              " 'test_steps_per_second': 25.511}"
            ]
          },
          "metadata": {},
          "execution_count": 159
        }
      ]
    },
    {
      "cell_type": "code",
      "source": [
        "def revert_oh(x):\n",
        "  emotions = ['anger', 'fear', 'joy', 'sadness']\n",
        "  return emotions[x]\n",
        "\n",
        "# decode the predictions\n",
        "y_preds = np.argmax(preds_output.predictions, axis=1)\n",
        "y_preds_v = list(map(revert_oh, y_preds))\n",
        "# encoded labels\n",
        "y_true = np.array(dataset_encoded['test']['label'])\n",
        "y_true_v = list(map(revert_oh, y_true))\n",
        "\n",
        "\n",
        "cm = confusion_matrix(y_true_v, y_preds_v)\n",
        "cmd_obj = ConfusionMatrixDisplay(cm, display_labels=['anger', 'fear', 'joy', 'sadness'])\n",
        "cmd_obj.plot()"
      ],
      "metadata": {
        "colab": {
          "base_uri": "https://localhost:8080/",
          "height": 301
        },
        "id": "1bQqW28eZlTt",
        "outputId": "c1a02315-0698-40ea-d5fe-b56c3273265d"
      },
      "execution_count": null,
      "outputs": [
        {
          "output_type": "execute_result",
          "data": {
            "text/plain": [
              "<sklearn.metrics._plot.confusion_matrix.ConfusionMatrixDisplay at 0x7f0ba26e9610>"
            ]
          },
          "metadata": {},
          "execution_count": 160
        },
        {
          "output_type": "display_data",
          "data": {
            "text/plain": [
              "<Figure size 432x288 with 2 Axes>"
            ],
            "image/png": "[encoded data removed]"
          },
          "metadata": {
            "needs_background": "light"
          }
        }
      ]
    },
    {
      "cell_type": "markdown",
      "source": [
        "Let's convert Dataset object back to Pandas DataFrame for convenience:"
      ],
      "metadata": {
        "id": "VF9w4tG3kUhM"
      }
    },
    {
      "cell_type": "code",
      "source": [
        "dataset_encoded['test'].set_format(type='pandas') \n",
        "test_df = dataset_encoded['test'][:]\n",
        "# attach the predicted labels to the dataframe:\n",
        "test_df['predicted_label'] = y_preds\n",
        "test_df['predicted_emotion'] = y_preds_v"
      ],
      "metadata": {
        "id": "IkCMj0EljDX2"
      },
      "execution_count": null,
      "outputs": []
    },
    {
      "cell_type": "code",
      "source": [
        "misclassified = test_df[test_df['Emotion']!=test_df['predicted_emotion']]\n",
        "print(f'There are {len(misclassified)} misclassified examples out of {len(test_df)} examples in the test set in total.')\n",
        "print(f\"Out of the 82 misclassified examples {len(misclassified[misclassified['Race']=='African-American'])} belong to African-American people and {len(misclassified)-len(misclassified[misclassified['Race']=='African-American'])} belong to European people.\")\n",
        "print(f\"Out of the 82 misclassified examples {len(misclassified[misclassified['Gender']=='male'])} belong to men and {len(misclassified[misclassified['Gender']=='female'])} belong to women.\")"
      ],
      "metadata": {
        "colab": {
          "base_uri": "https://localhost:8080/"
        },
        "id": "W9phJu_cp2QH",
        "outputId": "f5411ee5-95e6-4557-9f36-9431bde38776"
      },
      "execution_count": null,
      "outputs": [
        {
          "output_type": "stream",
          "name": "stdout",
          "text": [
            "There are 82 misclassified examples out of 1599 examples in the test set in total.\n",
            "Out of the 82 misclassified examples 50 belong to African-American people and 32 belong to European people.\n",
            "Out of the 82 misclassified examples 41 belong to men and 41 belong to women.\n"
          ]
        }
      ]
    },
    {
      "cell_type": "markdown",
      "source": [
        "Check results by focusing on GENDER:"
      ],
      "metadata": {
        "id": "qfUGj07anvNQ"
      }
    },
    {
      "cell_type": "code",
      "source": [
        "female = test_df[test_df['Gender']=='female']\n",
        "male = test_df[test_df['Gender']=='male']\n",
        "female_acc = accuracy_score(female['Emotion'],female['predicted_emotion'])\n",
        "male_acc = accuracy_score(male['Emotion'],male['predicted_emotion'])\n",
        "plt.bar(['female', 'male'], [female_acc, male_acc])\n",
        "plt.title('accuracy per gender')\n",
        "plt.xlabel('gender')\n",
        "plt.ylabel('accuracy')\n",
        "plt.show()"
      ],
      "metadata": {
        "colab": {
          "base_uri": "https://localhost:8080/",
          "height": 295
        },
        "id": "OGUllljvhYLf",
        "outputId": "25e995b1-3b92-4fbb-f775-f0d533572e87"
      },
      "execution_count": null,
      "outputs": [
        {
          "output_type": "display_data",
          "data": {
            "text/plain": [
              "<Figure size 432x288 with 1 Axes>"
            ],
            "image/png": "[encoded data removed]"
          },
          "metadata": {
            "needs_background": "light"
          }
        }
      ]
    },
    {
      "cell_type": "code",
      "source": [
        "EMOTION='sadness'\n",
        "\n",
        "def check_specific_emotion(emotion):\n",
        "  male = test_df[(test_df['Emotion']==f'{emotion}') & (test_df['Gender']=='male')]\n",
        "  female = test_df[(test_df['Emotion']==f'{emotion}') & (test_df['Gender']=='female')]\n",
        "  female_acc = accuracy_score(female['Emotion'], female['predicted_emotion'])\n",
        "  male_acc = accuracy_score(male['Emotion'], male['predicted_emotion'])\n",
        "  return female_acc, male_acc\n",
        "\n",
        "gender = ['male','female']\n",
        "female_acc, male_acc = check_specific_emotion(EMOTION)\n",
        "\n",
        "plt.bar(gender, [female_acc, male_acc])\n",
        "plt.title(f'{EMOTION}')\n",
        "plt.xlabel('gender')\n",
        "plt.ylabel('accuracy')\n",
        "plt.show()"
      ],
      "metadata": {
        "colab": {
          "base_uri": "https://localhost:8080/",
          "height": 295
        },
        "id": "jXg2YOAGoK9s",
        "outputId": "5c88662a-5c9d-4569-d0c5-9eff04c44b75"
      },
      "execution_count": null,
      "outputs": [
        {
          "output_type": "display_data",
          "data": {
            "text/plain": [
              "<Figure size 432x288 with 1 Axes>"
            ],
            "image/png": "[encoded data removed]"
          },
          "metadata": {
            "needs_background": "light"
          }
        }
      ]
    },
    {
      "cell_type": "markdown",
      "source": [
        "Check results by focusing on RACE:"
      ],
      "metadata": {
        "id": "2mOjQDcOnxDj"
      }
    },
    {
      "cell_type": "code",
      "source": [
        "am = test_df[test_df['Race']=='African-American']\n",
        "eu = test_df[test_df['Race']=='European']\n",
        "am_acc = accuracy_score(am['Emotion'],am['predicted_emotion'])\n",
        "eu_acc = accuracy_score(eu['Emotion'],eu['predicted_emotion'])\n",
        "plt.bar(['African-American', 'European'], [am_acc, eu_acc])\n",
        "plt.title('accuracy per race')\n",
        "plt.xlabel('race')\n",
        "plt.ylabel('accuracy')\n",
        "plt.show()"
      ],
      "metadata": {
        "colab": {
          "base_uri": "https://localhost:8080/",
          "height": 295
        },
        "id": "xcw5v6xymz9F",
        "outputId": "d5831215-a12a-4d8d-bec6-6874fdfaa524"
      },
      "execution_count": null,
      "outputs": [
        {
          "output_type": "display_data",
          "data": {
            "text/plain": [
              "<Figure size 432x288 with 1 Axes>"
            ],
            "image/png": "[encoded data removed]"
          },
          "metadata": {
            "needs_background": "light"
          }
        }
      ]
    },
    {
      "cell_type": "code",
      "source": [
        "EMOTION='fear'\n",
        "\n",
        "def check_specific_emotion(emotion):\n",
        "  am = test_df[(test_df['Emotion']==f'{emotion}') & (test_df['Race']=='male')]\n",
        "  eu = test_df[(test_df['Emotion']==f'{emotion}') & (test_df['Race']=='female')]\n",
        "  female_acc = accuracy_score(female['Emotion'], female['predicted_emotion'])\n",
        "  male_acc = accuracy_score(male['Emotion'], male['predicted_emotion'])\n",
        "  return female_acc, male_acc\n",
        "\n",
        "am_acc, eu_acc = check_specific_emotion(EMOTION)\n",
        "\n",
        "plt.title(f'{EMOTION}')\n",
        "plt.bar(['African-American', 'European'], [am_acc, eu_acc])\n",
        "plt.title('accuracy per race')\n",
        "plt.xlabel('race')\n",
        "plt.ylabel('accuracy')\n",
        "plt.show()"
      ],
      "metadata": {
        "colab": {
          "base_uri": "https://localhost:8080/",
          "height": 295
        },
        "id": "eV9yAKmpjBOd",
        "outputId": "42cfb0fe-caa9-404e-9e03-59aacadf80db"
      },
      "execution_count": null,
      "outputs": [
        {
          "output_type": "display_data",
          "data": {
            "text/plain": [
              "<Figure size 432x288 with 1 Axes>"
            ],
            "image/png": "[encoded data removed]"
          },
          "metadata": {
            "needs_background": "light"
          }
        }
      ]
    },
    {
      "cell_type": "markdown",
      "source": [
        "Confusion matrix for African-American:"
      ],
      "metadata": {
        "id": "gVzQ9cXWtXL4"
      }
    },
    {
      "cell_type": "code",
      "source": [
        "cm_am = confusion_matrix(am['Emotion'], am['predicted_emotion'])\n",
        "cmd_obj = ConfusionMatrixDisplay(cm_am, display_labels=['anger', 'fear', 'joy', 'sadness'])\n",
        "cmd_obj.plot()"
      ],
      "metadata": {
        "colab": {
          "base_uri": "https://localhost:8080/",
          "height": 301
        },
        "id": "sPk_eAu5s-Sx",
        "outputId": "ebd91c93-a0fa-40db-d31b-0786b83ae172"
      },
      "execution_count": null,
      "outputs": [
        {
          "output_type": "execute_result",
          "data": {
            "text/plain": [
              "<sklearn.metrics._plot.confusion_matrix.ConfusionMatrixDisplay at 0x7f0abbfc8bd0>"
            ]
          },
          "metadata": {},
          "execution_count": 208
        },
        {
          "output_type": "display_data",
          "data": {
            "text/plain": [
              "<Figure size 432x288 with 2 Axes>"
            ],
            "image/png": "[encoded data removed]"
          },
          "metadata": {
            "needs_background": "light"
          }
        }
      ]
    },
    {
      "cell_type": "code",
      "source": [
        "cm_eu = confusion_matrix(eu['Emotion'], eu['predicted_emotion'])\n",
        "cmd_obj = ConfusionMatrixDisplay(cm_eu, display_labels=['anger', 'fear', 'joy', 'sadness'])\n",
        "cmd_obj.plot()"
      ],
      "metadata": {
        "colab": {
          "base_uri": "https://localhost:8080/",
          "height": 301
        },
        "id": "ijUHxApQtatr",
        "outputId": "13a840e9-04de-4a21-e8db-896f4b32990d"
      },
      "execution_count": null,
      "outputs": [
        {
          "output_type": "execute_result",
          "data": {
            "text/plain": [
              "<sklearn.metrics._plot.confusion_matrix.ConfusionMatrixDisplay at 0x7f0abbf7af10>"
            ]
          },
          "metadata": {},
          "execution_count": 209
        },
        {
          "output_type": "display_data",
          "data": {
            "text/plain": [
              "<Figure size 432x288 with 2 Axes>"
            ],
            "image/png": "[encoded data removed]"
          },
          "metadata": {
            "needs_background": "light"
          }
        }
      ]
    },
    {
      "cell_type": "code",
      "source": [
        ""
      ],
      "metadata": {
        "id": "A7wtwzn_tgqP"
      },
      "execution_count": null,
      "outputs": []
    }
  ]
}